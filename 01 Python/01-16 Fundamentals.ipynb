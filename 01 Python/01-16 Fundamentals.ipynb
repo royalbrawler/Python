{
 "cells": [
  {
   "cell_type": "markdown",
   "id": "5b9f294f-567c-41ff-8529-462d5ff7e5ba",
   "metadata": {},
   "source": [
    "# 🐍 Python"
   ]
  },
  {
   "cell_type": "markdown",
   "id": "46da56d4-137f-4a31-ae21-09f169637f72",
   "metadata": {},
   "source": [
    "## ⭐️ Contents ⭐️\r\n",
    "1. Chapter - Hello World!\r\n",
    "2. Chapter - Welcome Example\r\n",
    "3. Chapter - Operators \r\n",
    "4. Chapter - Data Types\r\n",
    "5. Chapter - User Input\r\n",
    "6. Chapter - Lists & Tuples\r\n",
    "7. Chapter - Dictionaries & Sets \r\n",
    "8. Chapter - Loops \r\n",
    "9. Chapter - Functions \r\n",
    "10. Chapter - Recursion\r\n",
    "11. Chapter - Scope \r\n",
    "12. Chapter - Closures\r\n",
    "13. Chapter - f-Strings\r\n",
    "14. Chapter - Lambda & Higher Order Functions\r\n",
    "15. Chapter - Classes & Objects \r\n",
    "16. Chapter - Exceptions & Errors\r\n",
    "## ⭐️"
   ]
  },
  {
   "cell_type": "markdown",
   "id": "79a62803-6ae8-4e7c-81f8-29981118bdb8",
   "metadata": {
    "jp-MarkdownHeadingCollapsed": true
   },
   "source": [
    "## Lesson 01 - Hello World!"
   ]
  },
  {
   "cell_type": "code",
   "execution_count": 23,
   "id": "2e231f78-4841-4f80-9182-f5639faa2486",
   "metadata": {},
   "outputs": [
    {
     "name": "stdout",
     "output_type": "stream",
     "text": [
      "Hello World!\n"
     ]
    }
   ],
   "source": [
    "greeting = 'Hello World!'\n",
    "print(greeting)"
   ]
  },
  {
   "cell_type": "markdown",
   "id": "e7c5c006-81b9-4874-949a-575ac4cc8c3e",
   "metadata": {
    "jp-MarkdownHeadingCollapsed": true
   },
   "source": [
    "## Lesson 02 - Welcome Example\n"
   ]
  },
  {
   "cell_type": "code",
   "execution_count": 24,
   "id": "9d6705e3-e4db-4015-a54f-2589b7d7a326",
   "metadata": {},
   "outputs": [
    {
     "name": "stdout",
     "output_type": "stream",
     "text": [
      "\n",
      "********************\n",
      "*                  *\n",
      "*     WELCOME!     *\n",
      "*                  *\n",
      "********************\n"
     ]
    }
   ],
   "source": [
    "line01 = \"********************\"  # header / footer\n",
    "line02 = \"*                  *\"  # re-use\n",
    "line03 = \"*     WELCOME!     *\"\n",
    "\n",
    "\n",
    "# starts with a blank line\n",
    "print('')\n",
    "print(line01)\n",
    "print(line02)\n",
    "print(line03)\n",
    "print(line02)\n",
    "print(line01)"
   ]
  },
  {
   "cell_type": "markdown",
   "id": "cbd0759c-17a7-47b7-94c1-c63929a72833",
   "metadata": {
    "jp-MarkdownHeadingCollapsed": true
   },
   "source": [
    "## Lesson 03 - Operators\n"
   ]
  },
  {
   "cell_type": "code",
   "execution_count": 59,
   "id": "821151b5-2a44-4a34-9097-c476a4f60c3e",
   "metadata": {},
   "outputs": [
    {
     "name": "stdout",
     "output_type": "stream",
     "text": [
      "2 + 2 = 4\n",
      "4 - 2 = 2\n",
      "3 * 3 = 9\n",
      "24 / 5 = 4.8\n",
      "24 // 5 = 4\n",
      "round 5\n",
      "24 % 5 = 4\n",
      "2 ** 3 = 8\n",
      "2 ** 5 = 32\n"
     ]
    }
   ],
   "source": [
    "print('2 + 2 =', 2 + 2)\n",
    "print('4 - 2 =', 4 - 2)\n",
    "print('3 * 3 =', 3 * 3)\n",
    "print('24 / 5 =', 24 / 5)\n",
    "print('24 // 5 =', 24 // 5) # floor division (rounds down)\n",
    "print('round', round(24 / 5))\n",
    "print('24 % 5 =', 24 % 5) # remainder\n",
    "print('2 ** 3 =', 2 ** 3) # pow(er of)\n",
    "print('2 ** 5 =', 2 ** 5) "
   ]
  },
  {
   "cell_type": "code",
   "execution_count": 60,
   "id": "96728cc2-f04e-4dd4-ab81-534add3265a0",
   "metadata": {},
   "outputs": [
    {
     "name": "stdout",
     "output_type": "stream",
     "text": [
      "42\n",
      "43\n",
      "42\n",
      "420\n",
      "42.0\n",
      "42\n"
     ]
    }
   ],
   "source": [
    "beans = 42\n",
    "print(beans)\n",
    "beans += 1\n",
    "print(beans)\n",
    "beans -= 1\n",
    "print(beans)\n",
    "beans *= 10\n",
    "print(beans)\n",
    "beans /= 10\n",
    "print(beans)\n",
    "beans = round(beans)\n",
    "print(beans)"
   ]
  },
  {
   "cell_type": "code",
   "execution_count": 61,
   "id": "6a0190d4-4c07-476d-9707-1b1f0cf5ef0f",
   "metadata": {},
   "outputs": [
    {
     "name": "stdout",
     "output_type": "stream",
     "text": [
      "True\n",
      "False\n",
      "True\n",
      "False\n"
     ]
    }
   ],
   "source": [
    "print(1 == 1)\n",
    "print(1 != 1)\n",
    "print(3 >= 2)\n",
    "print(3 < 2)"
   ]
  },
  {
   "cell_type": "code",
   "execution_count": 62,
   "id": "ba32c7b3-115b-4ccd-b796-1c821c90f0f5",
   "metadata": {},
   "outputs": [
    {
     "name": "stdout",
     "output_type": "stream",
     "text": [
      "1. False\n",
      "2. True\n",
      "3. False\n",
      "4. True\n"
     ]
    }
   ],
   "source": [
    "truthy = True\n",
    "falsey = False\n",
    "\n",
    "print('1.', truthy and falsey)\n",
    "print('2.', truthy or falsey)\n",
    "print('3.', falsey or falsey)\n",
    "print('4.', truthy and truthy)"
   ]
  },
  {
   "cell_type": "code",
   "execution_count": 63,
   "id": "bbc85111-6920-43b4-af7e-e9089682f22a",
   "metadata": {},
   "outputs": [
    {
     "name": "stdout",
     "output_type": "stream",
     "text": [
      "False\n",
      "True\n",
      "False\n"
     ]
    }
   ],
   "source": [
    "x = True\n",
    "y = False\n",
    "z = True\n",
    "\n",
    "print(not x) # we get the opposite\n",
    "print(not y) # we get the opposite\n",
    "print(not z) # we get the opposite"
   ]
  },
  {
   "cell_type": "code",
   "execution_count": 64,
   "id": "3adfcc95-e9a4-485b-bc6e-ebad4360f294",
   "metadata": {},
   "outputs": [
    {
     "name": "stdout",
     "output_type": "stream",
     "text": [
      "\n",
      "Right on!\n",
      "Right on!\n"
     ]
    }
   ],
   "source": [
    "meaning = 42\n",
    "print('')\n",
    "\n",
    "#\n",
    "if meaning > 10:\n",
    "    print('Right on!')\n",
    "else:\n",
    "    print('Not today')\n",
    "\n",
    "# Ternary Operator\n",
    "print('Right on!') if meaning > 10 else print('Not today')"
   ]
  },
  {
   "cell_type": "markdown",
   "id": "ffebd0e4-e673-49eb-933c-cbf4f692f41f",
   "metadata": {
    "jp-MarkdownHeadingCollapsed": true
   },
   "source": [
    "## Lesson 04 - Data Types"
   ]
  },
  {
   "cell_type": "markdown",
   "id": "54c8883d-0712-4a22-b961-4d613a7d5678",
   "metadata": {
    "jp-MarkdownHeadingCollapsed": true
   },
   "source": [
    "### Strings"
   ]
  },
  {
   "cell_type": "code",
   "execution_count": 39,
   "id": "2ce525c3-d1f0-4718-81c9-89297c9e06b9",
   "metadata": {},
   "outputs": [
    {
     "name": "stdout",
     "output_type": "stream",
     "text": [
      "<class 'str'>\n",
      "True\n",
      "True\n"
     ]
    }
   ],
   "source": [
    "# literal assignment\n",
    "first = \"Davy\"\n",
    "last = \"Jones\"\n",
    "\n",
    "print(type(first))\n",
    "print(type(first) == str)\n",
    "print(isinstance(first, str))"
   ]
  },
  {
   "cell_type": "code",
   "execution_count": 40,
   "id": "20fea25d-8cb2-4afd-a638-cd80ec4d0ad5",
   "metadata": {},
   "outputs": [
    {
     "name": "stdout",
     "output_type": "stream",
     "text": [
      "<class 'str'>\n",
      "True\n",
      "True\n"
     ]
    }
   ],
   "source": [
    "# constructor function\n",
    "pizza = str(\"Pepperoni\")\n",
    "print(type(pizza))\n",
    "print(type(pizza) == str)\n",
    "print(isinstance(pizza, str))"
   ]
  },
  {
   "cell_type": "code",
   "execution_count": 41,
   "id": "319a4a9f-97d7-434b-8cd0-e8e8bc96828d",
   "metadata": {},
   "outputs": [
    {
     "name": "stdout",
     "output_type": "stream",
     "text": [
      "Davy Jones\n",
      "Davy Jones!\n"
     ]
    }
   ],
   "source": [
    "# Concatenation\n",
    "fullname = first + \" \" + last\n",
    "print(fullname)\n",
    "\n",
    "fullname += \"!\"\n",
    "print(fullname)"
   ]
  },
  {
   "cell_type": "code",
   "execution_count": 42,
   "id": "a128d7ac-8ab4-4ee0-82d7-86c8cc909f4f",
   "metadata": {},
   "outputs": [
    {
     "name": "stdout",
     "output_type": "stream",
     "text": [
      "<class 'str'>\n",
      "1980\n",
      "I like rock music from the 1980s.\n"
     ]
    }
   ],
   "source": [
    "# Casting a number to a string\n",
    "decade = str(1980)\n",
    "print(type(decade))\n",
    "print(decade)\n",
    "\n",
    "statement = \"I like rock music from the \" + str(1980) + \"s.\"\n",
    "print(statement)"
   ]
  },
  {
   "cell_type": "code",
   "execution_count": 43,
   "id": "cc871e78-98fc-44e0-ba24-84408e236ccd",
   "metadata": {},
   "outputs": [
    {
     "name": "stdout",
     "output_type": "stream",
     "text": [
      "\n",
      "In a hole in the ground there lived a hobbit.\n",
      "Not a nasty, dirty, wet hole, filled with the ends of worms and an oozy smell, \n",
      "        nor yet a dry, bare, sandy hole with nothing in it to sit down on or to eat: \n",
      "                it was a hobbit-hole, and that means comfort.\n",
      "    -- -- --\n",
      "\n"
     ]
    }
   ],
   "source": [
    "# Multiple lines\n",
    "multiline = '''\n",
    "In a hole in the ground there lived a hobbit.\n",
    "Not a nasty, dirty, wet hole, filled with the ends of worms and an oozy smell, \n",
    "        nor yet a dry, bare, sandy hole with nothing in it to sit down on or to eat: \n",
    "                it was a hobbit-hole, and that means comfort.\n",
    "    -- -- --\n",
    "'''\n",
    "print(multiline)"
   ]
  },
  {
   "cell_type": "code",
   "execution_count": 44,
   "id": "7cca0c7c-7891-41fa-bb85-3e7299522427",
   "metadata": {},
   "outputs": [
    {
     "name": "stdout",
     "output_type": "stream",
     "text": [
      "I'm back at work!\tHey!\n",
      "\n",
      "Where's this at\\located?\n"
     ]
    }
   ],
   "source": [
    "# Escaping special characters\n",
    "sentence = 'I\\'m back at work!\\tHey!\\n\\nWhere\\'s this at\\\\located?'\n",
    "print(sentence)"
   ]
  },
  {
   "cell_type": "code",
   "execution_count": 45,
   "id": "af143ae0-308b-4133-ab4e-fbb284e890cb",
   "metadata": {},
   "outputs": [
    {
     "name": "stdout",
     "output_type": "stream",
     "text": [
      "Davy\n",
      "davy\n",
      "DAVY\n",
      "Davy\n",
      "\n",
      "In A Hole In The Ground There Lived A Hobbit.\n",
      "Not A Nasty, Dirty, Wet Hole, Filled With The Ends Of Worms And An Oozy Smell, \n",
      "        Nor Yet A Dry, Bare, Sandy Hole With Nothing In It To Sit Down On Or To Eat: \n",
      "                It Was A Hobbit-Hole, And That Means Comfort.\n",
      "    -- -- --\n",
      "\n",
      "\n",
      "In a hole in the ground there lived a Smeagul.\n",
      "Not a nasty, dirty, wet hole, filled with the ends of worms and an oozy smell, \n",
      "        nor yet a dry, bare, sandy hole with nothing in it to sit down on or to eat: \n",
      "                it was a Smeagul-hole, and that means comfort.\n",
      "    -- -- --\n",
      "\n",
      "\n",
      "In a hole in the ground there lived a hobbit.\n",
      "Not a nasty, dirty, wet hole, filled with the ends of worms and an oozy smell, \n",
      "        nor yet a dry, bare, sandy hole with nothing in it to sit down on or to eat: \n",
      "                it was a hobbit-hole, and that means comfort.\n",
      "    -- -- --\n",
      "\n",
      "288 (original length)\n",
      "346 (added whitespaces lenght)\n",
      "286 strip()\n",
      "327 lstrip()\n",
      "305 rstrip()\n",
      "\n"
     ]
    }
   ],
   "source": [
    "# String Methods\n",
    "\n",
    "print(first)\n",
    "print(first.lower())\n",
    "print(first.upper())\n",
    "print(first)\n",
    "\n",
    "print(multiline.title()) # Make the first letter in each word upper case\n",
    "print(multiline.replace(\"hobbit\", \"Smeagul\"))\n",
    "print(multiline)\n",
    "\n",
    "print(len(multiline), '(original length)')\n",
    "multiline += \"                                        \"\n",
    "multiline = \"                  \" + multiline\n",
    "print(len(multiline), '(added whitespaces lenght)')\n",
    "\n",
    "print(len(multiline.strip()), 'strip()')\n",
    "print(len(multiline.lstrip()), 'lstrip()')\n",
    "print(len(multiline.rstrip()), 'rstrip()')\n",
    "\n",
    "print(\"\")"
   ]
  },
  {
   "cell_type": "code",
   "execution_count": 46,
   "id": "f6315a75-f24b-4755-a702-fe6ae9bad9f8",
   "metadata": {},
   "outputs": [
    {
     "name": "stdout",
     "output_type": "stream",
     "text": [
      "========MENU========\n",
      "Coffee..........  $1\n",
      "Muffin..........  $2\n",
      "Cheesecake......  $4\n"
     ]
    }
   ],
   "source": [
    "# Build a menu\n",
    "title = \"menu\".upper()\n",
    "print(title.center(20, \"=\"))\n",
    "print(\"Coffee\".ljust(16, \".\") + \"$1\".rjust(4))\n",
    "print(\"Muffin\".ljust(16, \".\") + \"$2\".rjust(4))\n",
    "print(\"Cheesecake\".ljust(16, \".\") + \"$4\".rjust(4))"
   ]
  },
  {
   "cell_type": "code",
   "execution_count": 47,
   "id": "90c97bd5-aba3-4ec3-a45a-a0cbfa965714",
   "metadata": {},
   "outputs": [
    {
     "name": "stdout",
     "output_type": "stream",
     "text": [
      "a\n",
      "y\n",
      "av\n",
      "avy\n"
     ]
    }
   ],
   "source": [
    "# string index values\n",
    "first = \"Davy\"\n",
    "\n",
    "print(first[1])\n",
    "print(first[-1])\n",
    "print(first[1:-1])\n",
    "print(first[1:])"
   ]
  },
  {
   "cell_type": "code",
   "execution_count": 48,
   "id": "060e09a9-bc42-4303-892c-f58084b2f038",
   "metadata": {},
   "outputs": [
    {
     "name": "stdout",
     "output_type": "stream",
     "text": [
      "True\n",
      "False\n"
     ]
    }
   ],
   "source": [
    "# Some methods return boolean data\n",
    "print(first.startswith(\"D\"))\n",
    "print(first.endswith(\"Z\"))"
   ]
  },
  {
   "cell_type": "markdown",
   "id": "74dbb183-8388-4d05-b6bf-d8da48b6f25d",
   "metadata": {
    "jp-MarkdownHeadingCollapsed": true
   },
   "source": [
    "### Boolean"
   ]
  },
  {
   "cell_type": "code",
   "execution_count": 49,
   "id": "60d15207-9579-468f-80ae-e125e516ebd5",
   "metadata": {},
   "outputs": [
    {
     "name": "stdout",
     "output_type": "stream",
     "text": [
      "<class 'bool'>\n",
      "True\n"
     ]
    }
   ],
   "source": [
    "# Boolean data type\n",
    "myvalue = True\n",
    "x = bool(False)\n",
    "print(type(x))\n",
    "print(isinstance(myvalue, bool))"
   ]
  },
  {
   "cell_type": "markdown",
   "id": "ad9c12f7-6ca6-4b57-a944-acfa6af8acbc",
   "metadata": {
    "jp-MarkdownHeadingCollapsed": true
   },
   "source": [
    "### Numeric"
   ]
  },
  {
   "cell_type": "code",
   "execution_count": 50,
   "id": "f153a989-1c94-4153-8f52-d45041790c16",
   "metadata": {},
   "outputs": [
    {
     "name": "stdout",
     "output_type": "stream",
     "text": [
      "<class 'int'>\n",
      "True\n"
     ]
    }
   ],
   "source": [
    "# integer type\n",
    "price = 100\n",
    "best_price = int(80)\n",
    "print(type(price))\n",
    "print(isinstance(best_price, int))"
   ]
  },
  {
   "cell_type": "code",
   "execution_count": 51,
   "id": "8292a930-2251-4799-ae13-851df07512d3",
   "metadata": {},
   "outputs": [
    {
     "name": "stdout",
     "output_type": "stream",
     "text": [
      "<class 'float'>\n"
     ]
    }
   ],
   "source": [
    "# float type\n",
    "gpa = 3.28\n",
    "y = float(1.14)\n",
    "print(type(gpa))"
   ]
  },
  {
   "cell_type": "code",
   "execution_count": 52,
   "id": "57416243-cf13-4f5f-bc75-8d7f5152a8e3",
   "metadata": {},
   "outputs": [
    {
     "name": "stdout",
     "output_type": "stream",
     "text": [
      "<class 'complex'>\n",
      "5.0\n",
      "3.0\n"
     ]
    }
   ],
   "source": [
    "# complex type\n",
    "comp_value = 5+3j\n",
    "print(type(comp_value))\n",
    "print(comp_value.real)\n",
    "print(comp_value.imag)"
   ]
  },
  {
   "cell_type": "code",
   "execution_count": 53,
   "id": "7accb13d-e9a0-4c65-afeb-cc59a933a476",
   "metadata": {},
   "outputs": [
    {
     "name": "stdout",
     "output_type": "stream",
     "text": [
      "3.28\n",
      "3.28\n",
      "3\n",
      "3.3\n",
      "3.141592653589793\n",
      "8.0\n",
      "4\n",
      "3\n"
     ]
    }
   ],
   "source": [
    "# Built-in functions for numbers\n",
    "import math\n",
    "\n",
    "print(abs(gpa))\n",
    "print(abs(gpa * -1))\n",
    "\n",
    "print(round(gpa))\n",
    "\n",
    "print(round(gpa, 1))\n",
    "\n",
    "\n",
    "print(math.pi)\n",
    "print(math.sqrt(64))\n",
    "print(math.ceil(gpa))\n",
    "print(math.floor(gpa))"
   ]
  },
  {
   "cell_type": "code",
   "execution_count": 54,
   "id": "c623df34-13ad-4ae3-9061-b2ae319edb53",
   "metadata": {},
   "outputs": [
    {
     "name": "stdout",
     "output_type": "stream",
     "text": [
      "<class 'int'>\n"
     ]
    }
   ],
   "source": [
    "# Casting a string to a number\n",
    "zipcode = \"10001\"\n",
    "zip_value = int(zipcode)\n",
    "print(type(zip_value))"
   ]
  },
  {
   "cell_type": "markdown",
   "id": "fbac8b44-0a0e-49a7-9855-3fa64356a7b4",
   "metadata": {
    "jp-MarkdownHeadingCollapsed": true
   },
   "source": [
    "## Lesson 05 - User Input (RPS RockPaperScissors project)"
   ]
  },
  {
   "cell_type": "code",
   "execution_count": 55,
   "id": "7ce7ba5f-cb3f-48d9-bcdd-db843403be5d",
   "metadata": {},
   "outputs": [
    {
     "name": "stdin",
     "output_type": "stream",
     "text": [
      "Enter... some text:  welcome to the jungle\n"
     ]
    },
    {
     "name": "stdout",
     "output_type": "stream",
     "text": [
      "welcome to the jungle\n",
      "['welcome', 'to', 'the', 'jungle']\n"
     ]
    }
   ],
   "source": [
    "i = input(\"Enter... some text: \")\n",
    "print(i)\n",
    "print(str(i).split())"
   ]
  },
  {
   "cell_type": "code",
   "execution_count": 56,
   "id": "c51fd8b1-6a22-4c8c-88cf-7071ec0c3743",
   "metadata": {},
   "outputs": [
    {
     "name": "stdout",
     "output_type": "stream",
     "text": [
      "\n"
     ]
    },
    {
     "name": "stdin",
     "output_type": "stream",
     "text": [
      "Enter...\n",
      "1 for Rock,\n",
      "2 for Paper, or \n",
      "3 for Scissors:\n",
      "\n",
      " 2\n"
     ]
    },
    {
     "name": "stdout",
     "output_type": "stream",
     "text": [
      "\n",
      "You chose PAPER.\n",
      "Python chose PAPER.\n",
      "\n",
      "😲 Tie game!\n"
     ]
    }
   ],
   "source": [
    "import sys\n",
    "import random\n",
    "from enum import Enum\n",
    "\n",
    "class RPS(Enum):\n",
    "    ROCK = 1\n",
    "    PAPER = 2\n",
    "    SCISSORS = 3\n",
    "\n",
    "print(\"\")\n",
    "playerchoice = input(\n",
    "    \"Enter...\\n1 for Rock,\\n2 for Paper, or \\n3 for Scissors:\\n\\n\")\n",
    "\n",
    "player = int(playerchoice)\n",
    "\n",
    "if player < 1 or player > 3:\n",
    "    sys.exit(\"You must enter 1, 2, or 3.\")\n",
    "\n",
    "computerchoice = random.choice(\"123\")\n",
    "\n",
    "computer = int(computerchoice)\n",
    "\n",
    "print(\"\")\n",
    "print(\"You chose \" + str(RPS(player)).replace('RPS.', '') + \".\")\n",
    "print(\"Python chose \" + str(RPS(computer)).replace('RPS.', '') + \".\")\n",
    "print(\"\")\n",
    "\n",
    "if player == 1 and computer == 3:\n",
    "    print(\"🎉 You win!\")\n",
    "elif player == 2 and computer == 1:\n",
    "    print(\"🎉 You win!\")\n",
    "elif player == 3 and computer == 2:\n",
    "    print(\"🎉 You win!\")\n",
    "elif player == computer:\n",
    "    print(\"😲 Tie game!\")\n",
    "else:\n",
    "    print(\"🐍 Python wins!\")\n"
   ]
  },
  {
   "cell_type": "markdown",
   "id": "8c16be88-480e-470a-821e-97bcb3172689",
   "metadata": {
    "jp-MarkdownHeadingCollapsed": true
   },
   "source": [
    "## Lesson 06 - Lists & Tuples"
   ]
  },
  {
   "cell_type": "markdown",
   "id": "7efbf3cb-3165-498a-a9d5-85638ec60e47",
   "metadata": {
    "jp-MarkdownHeadingCollapsed": true
   },
   "source": [
    "### Read"
   ]
  },
  {
   "cell_type": "code",
   "execution_count": 108,
   "id": "a5cdf23f-26a4-4876-9bdc-9971726366a6",
   "metadata": {},
   "outputs": [],
   "source": [
    "users = ['Davy', 'Jack', 'Sara']\n",
    "\n",
    "data = ['Davy', 42, True]\n",
    "\n",
    "emptyList = []\n",
    "\n",
    "myList = list([1, 'Neil', True])"
   ]
  },
  {
   "cell_type": "code",
   "execution_count": 109,
   "id": "e90e0b4b-6621-4b50-9ce2-b6218e260d51",
   "metadata": {},
   "outputs": [
    {
     "name": "stdout",
     "output_type": "stream",
     "text": [
      "True\n",
      "False\n"
     ]
    }
   ],
   "source": [
    "print('Davy' in users)\n",
    "print('Davy' in emptyList)"
   ]
  },
  {
   "cell_type": "code",
   "execution_count": 110,
   "id": "1fffdd83-3b4a-40aa-aa82-93ea308f2625",
   "metadata": {},
   "outputs": [
    {
     "name": "stdout",
     "output_type": "stream",
     "text": [
      "Davy\n",
      "Sara\n"
     ]
    }
   ],
   "source": [
    "print(users[0])\n",
    "print(users[-1]) # last value"
   ]
  },
  {
   "cell_type": "code",
   "execution_count": 111,
   "id": "18853bb8-c1cc-4c20-8bf4-13c55d28857d",
   "metadata": {},
   "outputs": [
    {
     "name": "stdout",
     "output_type": "stream",
     "text": [
      "1\n"
     ]
    }
   ],
   "source": [
    "print(users.index('Jack'))"
   ]
  },
  {
   "cell_type": "code",
   "execution_count": 112,
   "id": "5ad6b6b6-f58a-4cae-af15-015080cf6716",
   "metadata": {},
   "outputs": [
    {
     "name": "stdout",
     "output_type": "stream",
     "text": [
      "['Davy', 'Jack']\n",
      "['Jack', 'Sara']\n",
      "['Davy', 'Jack']\n"
     ]
    }
   ],
   "source": [
    "print(users[0:2])\n",
    "print(users[1:])\n",
    "print(users[-3:-1])"
   ]
  },
  {
   "cell_type": "code",
   "execution_count": 113,
   "id": "27264d09-c768-45de-b6ba-616c77012a5d",
   "metadata": {},
   "outputs": [
    {
     "name": "stdout",
     "output_type": "stream",
     "text": [
      "3\n"
     ]
    }
   ],
   "source": [
    "print(len(data))"
   ]
  },
  {
   "cell_type": "markdown",
   "id": "d2fa01c5-fffe-4cab-8e68-4e554caa162b",
   "metadata": {
    "jp-MarkdownHeadingCollapsed": true
   },
   "source": [
    "### Insert"
   ]
  },
  {
   "cell_type": "code",
   "execution_count": 114,
   "id": "0fff2da2-c7be-476f-959b-363e312ae0bb",
   "metadata": {},
   "outputs": [
    {
     "name": "stdout",
     "output_type": "stream",
     "text": [
      "['Davy', 'Jack', 'Sara', 'Elsa']\n"
     ]
    }
   ],
   "source": [
    "users.append('Elsa')\n",
    "print(users)"
   ]
  },
  {
   "cell_type": "code",
   "execution_count": 115,
   "id": "59449ca4-0a94-4697-acbd-0e98f1f2ea72",
   "metadata": {},
   "outputs": [
    {
     "name": "stdout",
     "output_type": "stream",
     "text": [
      "['Davy', 'Jack', 'Sara', 'Elsa', 'Jason']\n"
     ]
    }
   ],
   "source": [
    "users += ['Jason']\n",
    "print(users)"
   ]
  },
  {
   "cell_type": "code",
   "execution_count": 116,
   "id": "60209d36-6d73-4c85-a6d7-84026ffccd47",
   "metadata": {},
   "outputs": [
    {
     "name": "stdout",
     "output_type": "stream",
     "text": [
      "['Davy', 'Jack', 'Sara', 'Elsa', 'Jason', 'Rob', 'Jimmy']\n"
     ]
    }
   ],
   "source": [
    "users.extend(['Rob', 'Jimmy'])\n",
    "print(users)"
   ]
  },
  {
   "cell_type": "code",
   "execution_count": 117,
   "id": "88139273-6320-47a9-ba49-a7a489b152c0",
   "metadata": {},
   "outputs": [
    {
     "data": {
      "text/plain": [
       "['J', 'a', 'c', 'k', ' ', 'S', 'p', 'a', 'r', 'r', 'o', 'w']"
      ]
     },
     "execution_count": 117,
     "metadata": {},
     "output_type": "execute_result"
    }
   ],
   "source": [
    "temp = []\n",
    "temp += 'Jack Sparrow' # without array brackets\n",
    "temp"
   ]
  },
  {
   "cell_type": "code",
   "execution_count": 118,
   "id": "91bff1e6-ad2b-4e3e-b046-b6b6e9b2d615",
   "metadata": {},
   "outputs": [
    {
     "name": "stdout",
     "output_type": "stream",
     "text": [
      "['Davy', 'Jack', 'Sara', 'Elsa', 'Jason', 'Rob', 'Jimmy', 'Davy', 42, True]\n"
     ]
    }
   ],
   "source": [
    "users.extend(data)\n",
    "print(users)"
   ]
  },
  {
   "cell_type": "code",
   "execution_count": 119,
   "id": "41363bdf-e2eb-47d8-98e1-d95abc3c2fca",
   "metadata": {},
   "outputs": [
    {
     "name": "stdout",
     "output_type": "stream",
     "text": [
      "['Bob', 'Davy', 'Jack', 'Sara']\n"
     ]
    }
   ],
   "source": [
    "users = ['Davy', 'Jack', 'Sara'] # restart\n",
    "\n",
    "users.insert(0, 'Bob') # insert at index\n",
    "print(users)"
   ]
  },
  {
   "cell_type": "code",
   "execution_count": 120,
   "id": "1e9a0132-1bb2-46a3-995a-045232d8df24",
   "metadata": {},
   "outputs": [
    {
     "name": "stdout",
     "output_type": "stream",
     "text": [
      "['Bob', 'Davy', 'Barbossa', 'Parrot', 'Jack', 'Sara']\n"
     ]
    }
   ],
   "source": [
    "users[2:2] = ['Barbossa', 'Parrot']\n",
    "print(users)"
   ]
  },
  {
   "cell_type": "code",
   "execution_count": 121,
   "id": "c52e0eef-a3f4-4805-a285-0fa3a0b94c41",
   "metadata": {},
   "outputs": [
    {
     "name": "stdout",
     "output_type": "stream",
     "text": [
      "['Bob', 'Robert', 'JPJ', 'Parrot', 'Jack', 'Sara']\n"
     ]
    }
   ],
   "source": [
    "users[1:3] = ['Robert', 'JPJ']\n",
    "print(users)"
   ]
  },
  {
   "cell_type": "markdown",
   "id": "b36effbe-c6ef-422f-ab7d-7f796ff95c6f",
   "metadata": {
    "jp-MarkdownHeadingCollapsed": true
   },
   "source": [
    "### Remove"
   ]
  },
  {
   "cell_type": "code",
   "execution_count": 122,
   "id": "91ea0f01-fe9e-49d4-acba-6516a84dfdd6",
   "metadata": {},
   "outputs": [
    {
     "name": "stdout",
     "output_type": "stream",
     "text": [
      "['Robert', 'JPJ', 'Parrot', 'Jack', 'Sara']\n"
     ]
    }
   ],
   "source": [
    "users.remove('Bob')\n",
    "print(users)"
   ]
  },
  {
   "cell_type": "code",
   "execution_count": 138,
   "id": "5e5069a9-08b2-426c-ab1b-7abf64a649f6",
   "metadata": {},
   "outputs": [
    {
     "name": "stdout",
     "output_type": "stream",
     "text": [
      "Sara\n",
      "['Alex', 'davy', 'Jack', 'Robert']\n"
     ]
    }
   ],
   "source": [
    "print(users.pop()) # returns and removes last element\n",
    "print(users)"
   ]
  },
  {
   "cell_type": "code",
   "execution_count": 139,
   "id": "a9d4a916-cfa5-4509-98cf-b801cce4aeff",
   "metadata": {},
   "outputs": [
    {
     "name": "stdout",
     "output_type": "stream",
     "text": [
      "['davy', 'Jack', 'Robert']\n"
     ]
    }
   ],
   "source": [
    "del users[0]\n",
    "print(users)"
   ]
  },
  {
   "cell_type": "code",
   "execution_count": 140,
   "id": "f18494f3-a4d2-4444-be05-686bb5ec0560",
   "metadata": {
    "scrolled": true
   },
   "outputs": [],
   "source": [
    "# delete the whole list\n",
    "data = ['Davy', 42, True]\n",
    "del data \n",
    "# print(data) #...ERROR!"
   ]
  },
  {
   "cell_type": "code",
   "execution_count": 141,
   "id": "cfe8aeab-0b8e-4099-a94d-5eebf739e5a9",
   "metadata": {},
   "outputs": [
    {
     "name": "stdout",
     "output_type": "stream",
     "text": [
      "[]\n"
     ]
    }
   ],
   "source": [
    "data = ['Davy', 42, True]\n",
    "data.clear()\n",
    "print(data)"
   ]
  },
  {
   "cell_type": "markdown",
   "id": "7832f6b5-5b5d-4d73-8c56-58216a7a3d22",
   "metadata": {
    "jp-MarkdownHeadingCollapsed": true
   },
   "source": [
    "### Sort"
   ]
  },
  {
   "cell_type": "code",
   "execution_count": 142,
   "id": "3ce911a8-ea51-4e6a-8a5c-ff707d9bf4dd",
   "metadata": {},
   "outputs": [
    {
     "name": "stdout",
     "output_type": "stream",
     "text": [
      "['Alex', 'Davy', 'Jack', 'Robert', 'Sara']\n"
     ]
    }
   ],
   "source": [
    "users = ['Robert', 'Davy', 'Jack', 'Sara', 'Alex']\n",
    "users.sort()\n",
    "print(users)"
   ]
  },
  {
   "cell_type": "code",
   "execution_count": 143,
   "id": "6ab85fbc-28bd-4db8-8147-8271a71d2092",
   "metadata": {},
   "outputs": [
    {
     "name": "stdout",
     "output_type": "stream",
     "text": [
      "['Alex', 'Jack', 'Robert', 'Sara', 'davy']\n"
     ]
    }
   ],
   "source": [
    "# sorts Capital Letters first by default\n",
    "users[1:2] = ['davy']\n",
    "users.sort()\n",
    "print(users)"
   ]
  },
  {
   "cell_type": "code",
   "execution_count": 144,
   "id": "81e600af-be5d-4693-aaab-93b5fc6b9bef",
   "metadata": {},
   "outputs": [
    {
     "name": "stdout",
     "output_type": "stream",
     "text": [
      "['Alex', 'davy', 'Jack', 'Robert', 'Sara']\n"
     ]
    }
   ],
   "source": [
    "# sorted alphabetically.. (as expected)\n",
    "users.sort(key=str.lower)\n",
    "print(users)"
   ]
  },
  {
   "cell_type": "code",
   "execution_count": 145,
   "id": "732d54c0-c3de-44de-8325-6b0cb1c46573",
   "metadata": {},
   "outputs": [
    {
     "name": "stdout",
     "output_type": "stream",
     "text": [
      "[5, 1, 78, 42, 4]\n"
     ]
    }
   ],
   "source": [
    "nums = [4, 42, 78, 1, 5]\n",
    "nums.reverse()\n",
    "print(nums)"
   ]
  },
  {
   "cell_type": "code",
   "execution_count": 146,
   "id": "eadf6b69-c7cc-4179-b34a-5d53fe7d336f",
   "metadata": {},
   "outputs": [
    {
     "name": "stdout",
     "output_type": "stream",
     "text": [
      "[78, 42, 5, 4, 1]\n"
     ]
    }
   ],
   "source": [
    "nums.sort(reverse=True) # sort descending..\n",
    "print(nums)"
   ]
  },
  {
   "cell_type": "code",
   "execution_count": 147,
   "id": "c5dd1b8e-b3ca-4b7a-a99a-1a81a9e96653",
   "metadata": {},
   "outputs": [
    {
     "name": "stdout",
     "output_type": "stream",
     "text": [
      "[1, 4, 5, 42, 78]\n"
     ]
    }
   ],
   "source": [
    "nums.sort(reverse=False) # sort ascending..\n",
    "print(nums)"
   ]
  },
  {
   "cell_type": "code",
   "execution_count": 148,
   "id": "55f6a95d-8b4d-4a30-80d6-3c2c0ac5281d",
   "metadata": {},
   "outputs": [
    {
     "name": "stdout",
     "output_type": "stream",
     "text": [
      "[78, 42, 5, 4, 1]\n",
      "[1, 4, 5, 42, 78]\n"
     ]
    }
   ],
   "source": [
    "print(sorted(nums, reverse=True)) # sorted() returns new list(Array), does not modify the original\n",
    "print(nums)"
   ]
  },
  {
   "cell_type": "markdown",
   "id": "6c1b3a2a-8d38-4ee5-8bed-c88e220bf90b",
   "metadata": {
    "jp-MarkdownHeadingCollapsed": true
   },
   "source": [
    "### Copy"
   ]
  },
  {
   "cell_type": "code",
   "execution_count": 149,
   "id": "6685a938-74d8-4cbb-9a33-385a24d0cd3a",
   "metadata": {},
   "outputs": [],
   "source": [
    "nums = [1, 4, 5, 42, 78]"
   ]
  },
  {
   "cell_type": "code",
   "execution_count": 150,
   "id": "2104b69f-88bc-4b44-9622-47a379138bfd",
   "metadata": {},
   "outputs": [
    {
     "name": "stdout",
     "output_type": "stream",
     "text": [
      "[1, 4, 5, 42, 78]\n",
      "[1, 4, 5, 42, 78]\n",
      "[1, 4, 5, 42, 78]\n",
      "[1, 4, 5, 42, 78]\n"
     ]
    }
   ],
   "source": [
    "# ways to copy a list\n",
    "numscopy = nums.copy()\n",
    "mynums = list(nums)\n",
    "mycopy = nums[:]\n",
    "\n",
    "print(numscopy)\n",
    "print(mynums)\n",
    "print(mycopy)\n",
    "print(nums)"
   ]
  },
  {
   "cell_type": "code",
   "execution_count": 151,
   "id": "a0830c5d-6cbe-4e5e-aaa5-b8a33da1a2a2",
   "metadata": {},
   "outputs": [
    {
     "name": "stdout",
     "output_type": "stream",
     "text": [
      "[78, 42, 5, 4, 1]\n",
      "[1, 4, 5, 42, 78]\n"
     ]
    }
   ],
   "source": [
    "mycopy.sort(reverse=True)\n",
    "print(mycopy)\n",
    "print(nums)"
   ]
  },
  {
   "cell_type": "code",
   "execution_count": 152,
   "id": "fa4fa4c2-de4e-4602-9f45-657b117c148a",
   "metadata": {},
   "outputs": [
    {
     "name": "stdout",
     "output_type": "stream",
     "text": [
      "<class 'list'>\n"
     ]
    }
   ],
   "source": [
    "print(type(nums))"
   ]
  },
  {
   "cell_type": "markdown",
   "id": "e88f13ba-f133-49da-b5f7-cedf9b8df8db",
   "metadata": {
    "jp-MarkdownHeadingCollapsed": true
   },
   "source": [
    "### Tuple"
   ]
  },
  {
   "cell_type": "code",
   "execution_count": 158,
   "id": "953d10fb-3bd2-4013-bd09-7fd165d11a67",
   "metadata": {},
   "outputs": [
    {
     "name": "stdout",
     "output_type": "stream",
     "text": [
      "('Davy', 42, True)\n",
      "(1, 4, 2, 8)\n",
      "<class 'tuple'>\n",
      "<class 'tuple'>\n"
     ]
    }
   ],
   "source": [
    "# Tuple - the data does not change / the order of the data does not change\n",
    "\n",
    "mytuple = tuple(('Davy', 42, True))\n",
    "\n",
    "anothertuple = (1, 4, 2, 8)\n",
    "\n",
    "print(mytuple)\n",
    "print(anothertuple)\n",
    "print(type(mytuple))\n",
    "print(type(anothertuple))"
   ]
  },
  {
   "cell_type": "code",
   "execution_count": 159,
   "id": "2ec7c298-f01b-47f0-9659-2bc13445ea86",
   "metadata": {},
   "outputs": [
    {
     "name": "stdout",
     "output_type": "stream",
     "text": [
      "('Davy', 42, True, 'Neil')\n"
     ]
    }
   ],
   "source": [
    "newlist = list(mytuple)\n",
    "newlist.append('Neil')\n",
    "newtuple = tuple(newlist)\n",
    "print(newtuple)"
   ]
  },
  {
   "cell_type": "code",
   "execution_count": 163,
   "id": "1a756949-e2bd-4b05-a5f9-d91f0e1948bc",
   "metadata": {},
   "outputs": [
    {
     "name": "stdout",
     "output_type": "stream",
     "text": [
      "1\n",
      "4\n",
      "[2, 8]\n"
     ]
    }
   ],
   "source": [
    "# unpacking tuples\n",
    "# * - gets the remaining values\n",
    "(one, two, *hey) = anothertuple \n",
    "print(one)\n",
    "print(two)\n",
    "print(hey)"
   ]
  },
  {
   "cell_type": "code",
   "execution_count": 164,
   "id": "7d6c9ef2-adfd-4826-a9d8-ab1b63ce2f96",
   "metadata": {},
   "outputs": [
    {
     "name": "stdout",
     "output_type": "stream",
     "text": [
      "1\n",
      "[4, 2]\n",
      "8\n"
     ]
    }
   ],
   "source": [
    "(one, *two, hey) = anothertuple\n",
    "print(one)\n",
    "print(two)\n",
    "print(hey)"
   ]
  },
  {
   "cell_type": "code",
   "execution_count": 168,
   "id": "a8305368-57b7-460d-afc4-d1abc66d7eba",
   "metadata": {},
   "outputs": [
    {
     "name": "stdout",
     "output_type": "stream",
     "text": [
      "1\n"
     ]
    }
   ],
   "source": [
    "# count(2) the occurences of the input 2, not the length of the tuple...\n",
    "print(anothertuple.count(2))"
   ]
  },
  {
   "cell_type": "markdown",
   "id": "08dc2eac-1f6d-4e9b-84bd-8c27d804aeb9",
   "metadata": {
    "jp-MarkdownHeadingCollapsed": true
   },
   "source": [
    "## Lesson 07 - Dictionaries & Sets "
   ]
  },
  {
   "cell_type": "markdown",
   "id": "f7efee2c-a81e-4f70-a837-1ee46a14db0a",
   "metadata": {},
   "source": [
    "### Dictionaries"
   ]
  },
  {
   "cell_type": "code",
   "execution_count": 178,
   "id": "bc3af41b-0cf2-4a8c-9ba8-9ec4875a964e",
   "metadata": {},
   "outputs": [
    {
     "name": "stdout",
     "output_type": "stream",
     "text": [
      "{'vocals': 'Plant', 'guitar': 'Page'}\n",
      "{'vocals': 'Plant', 'guitar': 'Page'}\n",
      "<class 'dict'>\n",
      "2\n"
     ]
    }
   ],
   "source": [
    "# Dictionaries\n",
    "band = {\n",
    "    \"vocals\": \"Plant\",\n",
    "    \"guitar\": \"Page\"\n",
    "}\n",
    "\n",
    "band2 = dict(vocals=\"Plant\", guitar=\"Page\")\n",
    "\n",
    "print(band)\n",
    "print(band2)\n",
    "print(type(band))\n",
    "print(len(band))"
   ]
  },
  {
   "cell_type": "code",
   "execution_count": 179,
   "id": "7ed4dc06-19d5-4448-805d-cb1eb22b859d",
   "metadata": {},
   "outputs": [
    {
     "name": "stdout",
     "output_type": "stream",
     "text": [
      "Plant\n",
      "Page\n"
     ]
    }
   ],
   "source": [
    "# Access items\n",
    "print(band[\"vocals\"])\n",
    "print(band.get(\"guitar\"))"
   ]
  },
  {
   "cell_type": "code",
   "execution_count": 180,
   "id": "4aabf4d3-b28d-4b88-acde-513356c4844a",
   "metadata": {},
   "outputs": [
    {
     "name": "stdout",
     "output_type": "stream",
     "text": [
      "dict_keys(['vocals', 'guitar'])\n",
      "dict_values(['Plant', 'Page'])\n",
      "dict_items([('vocals', 'Plant'), ('guitar', 'Page')])\n"
     ]
    }
   ],
   "source": [
    "# list all keys\n",
    "print(band.keys())\n",
    "\n",
    "# list all values\n",
    "print(band.values())\n",
    "\n",
    "# list of key/value pairs as tuples\n",
    "print(band.items())"
   ]
  },
  {
   "cell_type": "code",
   "execution_count": 181,
   "id": "6645200e-69f3-467f-931d-72176c241afb",
   "metadata": {},
   "outputs": [
    {
     "name": "stdout",
     "output_type": "stream",
     "text": [
      "True\n",
      "False\n"
     ]
    }
   ],
   "source": [
    "# verify a key exists\n",
    "print(\"guitar\" in band)\n",
    "print(\"triangle\" in band)"
   ]
  },
  {
   "cell_type": "code",
   "execution_count": 182,
   "id": "57fb97bd-a7ed-4e0f-89d6-2e1b5d498f20",
   "metadata": {},
   "outputs": [
    {
     "name": "stdout",
     "output_type": "stream",
     "text": [
      "{'vocals': 'Coverdale', 'guitar': 'Page', 'bass': 'JPJ'}\n"
     ]
    }
   ],
   "source": [
    "# Change values\n",
    "band[\"vocals\"] = \"Coverdale\"\n",
    "band.update({\"bass\": \"JPJ\"})\n",
    "print(band)"
   ]
  },
  {
   "cell_type": "code",
   "execution_count": 183,
   "id": "fb5aa357-adda-4631-beac-dd61786e872f",
   "metadata": {},
   "outputs": [
    {
     "name": "stdout",
     "output_type": "stream",
     "text": [
      "JPJ\n",
      "{'vocals': 'Coverdale', 'guitar': 'Page'}\n",
      "{'vocals': 'Coverdale', 'guitar': 'Page', 'drums': 'Bonham'}\n",
      "('drums', 'Bonham')\n",
      "{'vocals': 'Coverdale', 'guitar': 'Page'}\n"
     ]
    }
   ],
   "source": [
    "# Remove items\n",
    "print(band.pop(\"bass\"))\n",
    "print(band)\n",
    "\n",
    "band[\"drums\"] = \"Bonham\"\n",
    "print(band)\n",
    "\n",
    "print(band.popitem())  # tuple\n",
    "print(band)"
   ]
  },
  {
   "cell_type": "code",
   "execution_count": 184,
   "id": "b4e1d113-839a-46c3-9efe-24bb92e9149f",
   "metadata": {},
   "outputs": [
    {
     "name": "stdout",
     "output_type": "stream",
     "text": [
      "{'vocals': 'Coverdale', 'guitar': 'Page'}\n",
      "{}\n"
     ]
    }
   ],
   "source": [
    "# Delete and clear\n",
    "\n",
    "band[\"drums\"] = \"Bonham\"\n",
    "del band[\"drums\"]\n",
    "print(band)\n",
    "\n",
    "band2.clear()\n",
    "print(band2)\n",
    "\n",
    "del band2"
   ]
  },
  {
   "cell_type": "code",
   "execution_count": 189,
   "id": "1663cb77-d9dc-44f9-8858-cc2ea33a50aa",
   "metadata": {},
   "outputs": [
    {
     "name": "stdout",
     "output_type": "stream",
     "text": [
      "Bad copy!\n",
      "{'vocals': 'Plant', 'guitar': 'Page'}\n",
      "{'vocals': 'Plant', 'guitar': 'Page'}\n",
      "{'vocals': 'Plant', 'guitar': 'Page', 'drums': 'Dave'}\n"
     ]
    }
   ],
   "source": [
    "# Copy dictionaries\n",
    "band = {\n",
    "    \"vocals\": \"Plant\",\n",
    "    \"guitar\": \"Page\"\n",
    "}\n",
    "\n",
    "band2 = band  # create a reference\n",
    "print(\"Bad copy!\")\n",
    "print(band2)\n",
    "\n",
    "print(band)\n",
    "band2[\"drums\"] = \"Dave\"\n",
    "print(band)"
   ]
  },
  {
   "cell_type": "code",
   "execution_count": 190,
   "id": "9de291dc-c250-4677-9e97-b031a4ee106e",
   "metadata": {},
   "outputs": [
    {
     "name": "stdout",
     "output_type": "stream",
     "text": [
      "Good copy!\n",
      "{'vocals': 'Plant', 'guitar': 'Page'}\n",
      "{'vocals': 'Plant', 'guitar': 'Page', 'drums': 'Dave'}\n"
     ]
    }
   ],
   "source": [
    "band = {\n",
    "    \"vocals\": \"Plant\",\n",
    "    \"guitar\": \"Page\"\n",
    "}\n",
    "\n",
    "band2 = band.copy()\n",
    "# band2 = dict(band) # or use the dict() constructor function\n",
    "\n",
    "band2[\"drums\"] = \"Dave\"\n",
    "print(\"Good copy!\")\n",
    "print(band)\n",
    "print(band2)"
   ]
  },
  {
   "cell_type": "code",
   "execution_count": 197,
   "id": "5175fdb4-d4cb-4d9f-b007-fdf79a262f13",
   "metadata": {},
   "outputs": [
    {
     "name": "stdout",
     "output_type": "stream",
     "text": [
      "{'member1': {'instrument': 'vocals', 'name': 'Plant'},\n",
      " 'member2': {'instrument': 'guitar', 'name': 'Page'}}\n",
      "Plant\n"
     ]
    }
   ],
   "source": [
    "# Nested dictionaries\n",
    "import pprint # pretty print.. \n",
    "\n",
    "member1 = {\n",
    "    \"name\": \"Plant\",\n",
    "    \"instrument\": \"vocals\"\n",
    "}\n",
    "member2 = {\n",
    "    \"name\": \"Page\",\n",
    "    \"instrument\": \"guitar\"\n",
    "}\n",
    "band = {\n",
    "    \"member1\": member1,\n",
    "    \"member2\": member2\n",
    "}\n",
    "pprint.pprint(band)\n",
    "print(band[\"member1\"][\"name\"])\n"
   ]
  },
  {
   "cell_type": "markdown",
   "id": "f157e1ee-d18c-44c3-9fa4-72098e63bdd8",
   "metadata": {},
   "source": [
    "### Sets"
   ]
  },
  {
   "cell_type": "code",
   "execution_count": 204,
   "id": "4b6d7249-f059-4f82-8fb9-3335e6f2ae08",
   "metadata": {},
   "outputs": [
    {
     "name": "stdout",
     "output_type": "stream",
     "text": [
      "{1, 2, 3, 4}\n",
      "{1, 2, 3, 4}\n",
      "<class 'set'>\n",
      "4\n"
     ]
    }
   ],
   "source": [
    "# Sets - \n",
    "\n",
    "# no duplicates allowed..\n",
    "# cannot refer to an element in the set with an index position or a key\n",
    "\n",
    "nums = {1, 2, 3, 4}\n",
    "\n",
    "nums2 = set((1, 2, 3, 4))\n",
    "\n",
    "print(nums)\n",
    "print(nums2)\n",
    "print(type(nums))\n",
    "print(len(nums))"
   ]
  },
  {
   "cell_type": "code",
   "execution_count": 205,
   "id": "7a6e490c-ec0d-496c-bba0-d1a5234be759",
   "metadata": {},
   "outputs": [
    {
     "name": "stdout",
     "output_type": "stream",
     "text": [
      "{1, 2, 3}\n"
     ]
    }
   ],
   "source": [
    "# No duplicate allowed\n",
    "nums = {1, 2, 2, 3}\n",
    "print(nums)"
   ]
  },
  {
   "cell_type": "code",
   "execution_count": 206,
   "id": "43c5d397-91c4-47d3-9d69-daf91bdb9e9d",
   "metadata": {},
   "outputs": [
    {
     "name": "stdout",
     "output_type": "stream",
     "text": [
      "{False, 1, 2, 3, 4}\n"
     ]
    }
   ],
   "source": [
    "# True is a dupe of 1, False is a dupe of zero\n",
    "nums = {1, True, 2, False, 3, 4, 0}\n",
    "print(nums)"
   ]
  },
  {
   "cell_type": "code",
   "execution_count": 207,
   "id": "1ce18751-e4c2-49b3-8770-5a565a807e3d",
   "metadata": {},
   "outputs": [
    {
     "name": "stdout",
     "output_type": "stream",
     "text": [
      "True\n"
     ]
    }
   ],
   "source": [
    "# check if a value is in a set\n",
    "print(2 in nums)"
   ]
  },
  {
   "cell_type": "code",
   "execution_count": 208,
   "id": "240d7807-8f5c-4664-8c13-d82bf6043c0a",
   "metadata": {},
   "outputs": [
    {
     "name": "stdout",
     "output_type": "stream",
     "text": [
      "{False, 1, 2, 3, 4, 8}\n"
     ]
    }
   ],
   "source": [
    "# Add a new element to a set\n",
    "nums.add(8)\n",
    "print(nums)"
   ]
  },
  {
   "cell_type": "code",
   "execution_count": 209,
   "id": "fada83cb-5cb2-4291-a961-37610d8272ac",
   "metadata": {},
   "outputs": [
    {
     "name": "stdout",
     "output_type": "stream",
     "text": [
      "{False, 1, 2, 3, 4, 5, 6, 7, 8}\n"
     ]
    }
   ],
   "source": [
    "# Add elements from one set to another\n",
    "morenums = {5, 6, 7}\n",
    "nums.update(morenums)\n",
    "print(nums)"
   ]
  },
  {
   "cell_type": "code",
   "execution_count": 212,
   "id": "e3bd1485-aa65-496a-af2d-ecf6aed67040",
   "metadata": {},
   "outputs": [
    {
     "name": "stdout",
     "output_type": "stream",
     "text": [
      "{1, 2, 3, 5, 6, 7}\n"
     ]
    }
   ],
   "source": [
    "# Merge two sets to create a new set\n",
    "one = {1, 2, 3}\n",
    "two = {5, 6, 7}\n",
    "\n",
    "mynewset = one.union(two)\n",
    "print(mynewset)"
   ]
  },
  {
   "cell_type": "code",
   "execution_count": 215,
   "id": "3d989e8b-7e12-4d16-9a05-1b790226dfd0",
   "metadata": {},
   "outputs": [
    {
     "name": "stdout",
     "output_type": "stream",
     "text": [
      "{2, 3}\n"
     ]
    }
   ],
   "source": [
    "# Keep only the duplicates\n",
    "one = {1, 2, 3}\n",
    "two = {2, 3, 4}\n",
    "\n",
    "one.intersection_update(two)\n",
    "print(one)"
   ]
  },
  {
   "cell_type": "code",
   "execution_count": 216,
   "id": "f2a310c4-0a81-4f31-ae2c-555baa45c57e",
   "metadata": {},
   "outputs": [
    {
     "name": "stdout",
     "output_type": "stream",
     "text": [
      "{1, 4}\n"
     ]
    }
   ],
   "source": [
    "# Keep everything except the duplicates\n",
    "one = {1, 2, 3}\n",
    "two = {2, 3, 4}\n",
    "\n",
    "one.symmetric_difference_update(two)\n",
    "print(one)"
   ]
  },
  {
   "cell_type": "markdown",
   "id": "8871afb2-25d8-4d14-9fcb-1ee2d1fce8cb",
   "metadata": {
    "jp-MarkdownHeadingCollapsed": true
   },
   "source": [
    "## Lesson 08 - Loops"
   ]
  },
  {
   "cell_type": "code",
   "execution_count": 218,
   "id": "2d36a74f-94e5-455f-9802-4e27d1245093",
   "metadata": {},
   "outputs": [
    {
     "name": "stdout",
     "output_type": "stream",
     "text": [
      "1\n",
      "2\n",
      "3\n",
      "4\n",
      "5\n"
     ]
    }
   ],
   "source": [
    "value = 1\n",
    "while value <= 10:\n",
    "    print(value)\n",
    "    if value == 5:\n",
    "        break\n",
    "    value += 1"
   ]
  },
  {
   "cell_type": "code",
   "execution_count": 219,
   "id": "57d5142c-c2e1-4b23-8316-85f611cb69c8",
   "metadata": {},
   "outputs": [
    {
     "name": "stdout",
     "output_type": "stream",
     "text": [
      "2\n",
      "3\n",
      "4\n",
      "6\n",
      "7\n",
      "8\n",
      "9\n",
      "10\n",
      "11\n",
      "Value is now equal to 11\n"
     ]
    }
   ],
   "source": [
    "value = 1\n",
    "while value <= 10:\n",
    "    value += 1\n",
    "    if value == 5:\n",
    "        continue\n",
    "    print(value)\n",
    "else:\n",
    "    print(\"Value is now equal to \" + str(value))"
   ]
  },
  {
   "cell_type": "code",
   "execution_count": 220,
   "id": "e02baf1d-f4ae-486f-bfee-4442c8e65788",
   "metadata": {},
   "outputs": [
    {
     "name": "stdout",
     "output_type": "stream",
     "text": [
      "Dave\n",
      "Sara\n",
      "John\n"
     ]
    }
   ],
   "source": [
    "names = [\"Dave\", \"Sara\", \"John\"]\n",
    "for x in names:\n",
    "    print(x)"
   ]
  },
  {
   "cell_type": "code",
   "execution_count": 221,
   "id": "c3ed292a-10ee-4b0b-87d6-de62a68ef4ec",
   "metadata": {},
   "outputs": [
    {
     "name": "stdout",
     "output_type": "stream",
     "text": [
      "M\n",
      "i\n",
      "s\n",
      "s\n",
      "i\n",
      "s\n",
      "s\n",
      "i\n",
      "p\n",
      "p\n",
      "i\n"
     ]
    }
   ],
   "source": [
    "for x in \"Mississippi\":\n",
    "    print(x)"
   ]
  },
  {
   "cell_type": "code",
   "execution_count": 223,
   "id": "1b8ebc69-73f5-486a-abb6-3f585d99c3e4",
   "metadata": {},
   "outputs": [
    {
     "name": "stdout",
     "output_type": "stream",
     "text": [
      "Dave\n"
     ]
    }
   ],
   "source": [
    "names = [\"Dave\", \"Sara\", \"John\"]\n",
    "for x in names:\n",
    "    if x == \"Sara\":\n",
    "        break\n",
    "    print(x)"
   ]
  },
  {
   "cell_type": "code",
   "execution_count": 224,
   "id": "e7c4c875-9af4-47ea-aa15-10f4dd9f62a2",
   "metadata": {},
   "outputs": [
    {
     "name": "stdout",
     "output_type": "stream",
     "text": [
      "Dave\n",
      "John\n"
     ]
    }
   ],
   "source": [
    "for x in names:\n",
    "    if x == \"Sara\":\n",
    "        continue\n",
    "    print(x)"
   ]
  },
  {
   "cell_type": "code",
   "execution_count": 225,
   "id": "f1472f52-b156-4696-9d2b-ce80243575f0",
   "metadata": {},
   "outputs": [
    {
     "name": "stdout",
     "output_type": "stream",
     "text": [
      "0\n",
      "1\n",
      "2\n",
      "3\n"
     ]
    }
   ],
   "source": [
    "for x in range(4):\n",
    "    print(x)"
   ]
  },
  {
   "cell_type": "code",
   "execution_count": 226,
   "id": "c64f17a3-9bfc-4e3d-9a92-3bb76250b617",
   "metadata": {},
   "outputs": [
    {
     "name": "stdout",
     "output_type": "stream",
     "text": [
      "2\n",
      "3\n"
     ]
    }
   ],
   "source": [
    "for x in range(2, 4):\n",
    "    print(x)"
   ]
  },
  {
   "cell_type": "code",
   "execution_count": 227,
   "id": "212a7bb1-7567-4dc3-b45a-ba9feeef5b83",
   "metadata": {},
   "outputs": [
    {
     "name": "stdout",
     "output_type": "stream",
     "text": [
      "5\n",
      "10\n",
      "15\n",
      "20\n",
      "25\n",
      "30\n",
      "35\n",
      "40\n",
      "45\n",
      "50\n",
      "55\n",
      "60\n",
      "65\n",
      "70\n",
      "75\n",
      "80\n",
      "85\n",
      "90\n",
      "95\n",
      "100\n",
      "Glad that's over!\n"
     ]
    }
   ],
   "source": [
    "for x in range(5, 101, 5):\n",
    "    print(x)\n",
    "else:\n",
    "    print(\"Glad that\\'s over!\")"
   ]
  },
  {
   "cell_type": "code",
   "execution_count": 230,
   "id": "8549812b-b91e-4ea9-a6e5-a96668a2d715",
   "metadata": {},
   "outputs": [
    {
     "name": "stdout",
     "output_type": "stream",
     "text": [
      "Dave codes.\n",
      "Dave eats.\n",
      "Dave sleeps.\n",
      "Sara codes.\n",
      "Sara eats.\n",
      "Sara sleeps.\n",
      "John codes.\n",
      "John eats.\n",
      "John sleeps.\n"
     ]
    }
   ],
   "source": [
    "names = [\"Dave\", \"Sara\", \"John\"]\n",
    "actions = [\"codes\", \"eats\", \"sleeps\"]\n",
    "\n",
    "for name in names:\n",
    "    for action in actions:\n",
    "        print(name + \" \" + action + \".\")"
   ]
  },
  {
   "cell_type": "code",
   "execution_count": 234,
   "id": "5a94ffd6-c6ac-429f-b001-43453d9595c7",
   "metadata": {},
   "outputs": [
    {
     "name": "stdout",
     "output_type": "stream",
     "text": [
      "[257, 130, 68, 40, 32, 40, 68, 130, 257]\n",
      "[0, 1, 2, 3, 4, 5, 6, 7, 8]\n"
     ]
    }
   ],
   "source": [
    "variance = [1, 2, 4, 8, 16, 32, 64, 128, 256]\n",
    "bias_squared = [256, 128, 64, 32, 16, 8, 4, 2, 1]\n",
    "\n",
    "total_error = [x+y for x, y in zip(variance, bias_squared)]\n",
    "xs = [i for i, _ in enumerate(variance)]\n",
    "\n",
    "print(total_error)\n",
    "print(xs)\n"
   ]
  },
  {
   "cell_type": "markdown",
   "id": "f43d82eb-0818-42ae-97bb-e34200b36b7b",
   "metadata": {},
   "source": [
    "### RPS version 2"
   ]
  },
  {
   "cell_type": "code",
   "execution_count": 235,
   "id": "df87a811-3064-488c-a371-ffaf08b630b1",
   "metadata": {},
   "outputs": [
    {
     "name": "stdin",
     "output_type": "stream",
     "text": [
      "\n",
      "Enter... \n",
      "1 for Rock,\n",
      "2 for Paper, or \n",
      "3 for Scissors:\n",
      "\n",
      " 2\n"
     ]
    },
    {
     "name": "stdout",
     "output_type": "stream",
     "text": [
      "\n",
      "You chose Paper.\n",
      "Python chose Rock.\n",
      "\n",
      "🎉 You win!\n"
     ]
    },
    {
     "name": "stdin",
     "output_type": "stream",
     "text": [
      "\n",
      "Play again? \n",
      "Y for Yes or \n",
      "Q to Quit \n",
      "\n",
      " y\n",
      "\n",
      "Enter... \n",
      "1 for Rock,\n",
      "2 for Paper, or \n",
      "3 for Scissors:\n",
      "\n",
      " 2\n"
     ]
    },
    {
     "name": "stdout",
     "output_type": "stream",
     "text": [
      "\n",
      "You chose Paper.\n",
      "Python chose Scissors.\n",
      "\n",
      "🐍 Python wins!\n"
     ]
    },
    {
     "name": "stdin",
     "output_type": "stream",
     "text": [
      "\n",
      "Play again? \n",
      "Y for Yes or \n",
      "Q to Quit \n",
      "\n",
      " q\n"
     ]
    },
    {
     "name": "stdout",
     "output_type": "stream",
     "text": [
      "\n",
      "🎉🎉🎉🎉\n",
      "Thank you for playing!\n",
      "\n"
     ]
    },
    {
     "ename": "SystemExit",
     "evalue": "Bye! 👋",
     "output_type": "error",
     "traceback": [
      "An exception has occurred, use %tb to see the full traceback.\n",
      "\u001b[1;31mSystemExit\u001b[0m\u001b[1;31m:\u001b[0m Bye! 👋\n"
     ]
    }
   ],
   "source": [
    "import sys\n",
    "import random\n",
    "from enum import Enum\n",
    "\n",
    "\n",
    "class RPS(Enum):\n",
    "    ROCK = 1\n",
    "    PAPER = 2\n",
    "    SCISSORS = 3\n",
    "\n",
    "\n",
    "playagain = True\n",
    "\n",
    "while playagain:\n",
    "\n",
    "    playerchoice = input(\n",
    "        \"\\nEnter... \\n1 for Rock,\\n2 for Paper, or \\n3 for Scissors:\\n\\n\")\n",
    "\n",
    "    player = int(playerchoice)\n",
    "\n",
    "    if player < 1 or player > 3:\n",
    "        sys.exit(\"You must enter 1, 2, or 3.\")\n",
    "\n",
    "    computerchoice = random.choice(\"123\")\n",
    "\n",
    "    computer = int(computerchoice)\n",
    "\n",
    "    print(\"\\nYou chose \" + str(RPS(player)).replace('RPS.', '').title() + \".\")\n",
    "    print(\"Python chose \" + str(RPS(computer)).replace('RPS.', '').title() + \".\\n\")\n",
    "\n",
    "    if player == 1 and computer == 3:\n",
    "        print(\"🎉 You win!\")\n",
    "    elif player == 2 and computer == 1:\n",
    "        print(\"🎉 You win!\")\n",
    "    elif player == 3 and computer == 2:\n",
    "        print(\"🎉 You win!\")\n",
    "    elif player == computer:\n",
    "        print(\"😲 Tie game!\")\n",
    "    else:\n",
    "        print(\"🐍 Python wins!\")\n",
    "\n",
    "    playagain = input(\"\\nPlay again? \\nY for Yes or \\nQ to Quit \\n\\n\")\n",
    "\n",
    "    if playagain.lower() == \"y\":\n",
    "        continue\n",
    "    else:\n",
    "        print(\"\\n🎉🎉🎉🎉\")\n",
    "        print(\"Thank you for playing!\\n\")\n",
    "        playagain = False\n",
    "\n",
    "sys.exit(\"Bye! 👋\")"
   ]
  },
  {
   "cell_type": "code",
   "execution_count": 236,
   "id": "ff770b43-4235-4647-a357-dd30bb542172",
   "metadata": {},
   "outputs": [
    {
     "ename": "SystemExit",
     "evalue": "Bye! 👋",
     "output_type": "error",
     "traceback": [
      "\u001b[1;31m---------------------------------------------------------------------------\u001b[0m",
      "\u001b[1;31mSystemExit\u001b[0m                                Traceback (most recent call last)",
      "Cell \u001b[1;32mIn[235], line 51\u001b[0m\n\u001b[0;32m     48\u001b[0m         \u001b[38;5;28mprint\u001b[39m(\u001b[38;5;124m\"\u001b[39m\u001b[38;5;124mThank you for playing!\u001b[39m\u001b[38;5;130;01m\\n\u001b[39;00m\u001b[38;5;124m\"\u001b[39m)\n\u001b[0;32m     49\u001b[0m         playagain \u001b[38;5;241m=\u001b[39m \u001b[38;5;28;01mFalse\u001b[39;00m\n\u001b[1;32m---> 51\u001b[0m \u001b[43msys\u001b[49m\u001b[38;5;241;43m.\u001b[39;49m\u001b[43mexit\u001b[49m\u001b[43m(\u001b[49m\u001b[38;5;124;43m\"\u001b[39;49m\u001b[38;5;124;43mBye! 👋\u001b[39;49m\u001b[38;5;124;43m\"\u001b[39;49m\u001b[43m)\u001b[49m\n",
      "\u001b[1;31mSystemExit\u001b[0m: Bye! 👋"
     ]
    }
   ],
   "source": [
    "%tb "
   ]
  },
  {
   "cell_type": "markdown",
   "id": "ea8b3f61-c456-45fb-9056-02e4660a0ecd",
   "metadata": {
    "jp-MarkdownHeadingCollapsed": true
   },
   "source": [
    "## Lesson 09 - Functions"
   ]
  },
  {
   "cell_type": "code",
   "execution_count": 237,
   "id": "25506602-e970-45b2-ad0c-f4896dfa6752",
   "metadata": {},
   "outputs": [
    {
     "name": "stdout",
     "output_type": "stream",
     "text": [
      "Hello world!\n"
     ]
    }
   ],
   "source": [
    "def hello_world():\n",
    "    print(\"Hello world!\")\n",
    "\n",
    "hello_world()"
   ]
  },
  {
   "cell_type": "code",
   "execution_count": 240,
   "id": "3e8f39f9-7534-47e1-a1c5-3a6ccc46daad",
   "metadata": {},
   "outputs": [
    {
     "name": "stdout",
     "output_type": "stream",
     "text": [
      "9\n"
     ]
    }
   ],
   "source": [
    "def sum(num1=0, num2=0):\n",
    "    if (type(num1) is not int or type(num2) is not int):\n",
    "        return 0\n",
    "    return num1 + num2\n",
    "\n",
    "total = sum(7, 2)\n",
    "print(total)"
   ]
  },
  {
   "cell_type": "code",
   "execution_count": 243,
   "id": "2ad594e2-5163-4755-a708-351b0732e648",
   "metadata": {},
   "outputs": [
    {
     "name": "stdout",
     "output_type": "stream",
     "text": [
      "('Dave', 'John', 'Sara')\n",
      "<class 'tuple'>\n"
     ]
    }
   ],
   "source": [
    "# *args\n",
    "def multiple_items(*args):\n",
    "    print(args)\n",
    "    print(type(args))\n",
    "\n",
    "multiple_items(\"Dave\", \"John\", \"Sara\")"
   ]
  },
  {
   "cell_type": "code",
   "execution_count": 244,
   "id": "7d81ef71-e5c1-4fd0-b233-0277fe82a46a",
   "metadata": {},
   "outputs": [
    {
     "name": "stdout",
     "output_type": "stream",
     "text": [
      "{'first': 'Dave', 'last': 'Gray'}\n",
      "<class 'dict'>\n"
     ]
    }
   ],
   "source": [
    "# **kwargs\n",
    "def mult_named_items(**kwargs):\n",
    "    print(kwargs)\n",
    "    print(type(kwargs))\n",
    "\n",
    "mult_named_items(first=\"Dave\", last=\"Gray\")"
   ]
  },
  {
   "cell_type": "markdown",
   "id": "32dcc78d-b664-46f1-b7a8-e4882e71c06a",
   "metadata": {
    "jp-MarkdownHeadingCollapsed": true
   },
   "source": [
    "## Lesson 10 - Recursion"
   ]
  },
  {
   "cell_type": "code",
   "execution_count": 246,
   "id": "2d5b2994-3857-4189-9a6d-1ee3329973fd",
   "metadata": {},
   "outputs": [
    {
     "name": "stdout",
     "output_type": "stream",
     "text": [
      "1\n"
     ]
    }
   ],
   "source": [
    "value = \"y\"\n",
    "count = 0\n",
    "\n",
    "while value:\n",
    "    count += 1\n",
    "    print(count)\n",
    "    if (count == 5):\n",
    "        break\n",
    "    else:\n",
    "        value = 0\n",
    "        continue"
   ]
  },
  {
   "cell_type": "code",
   "execution_count": 247,
   "id": "555bffb3-24ee-4e02-9986-1eb86ee59f2b",
   "metadata": {},
   "outputs": [
    {
     "name": "stdout",
     "output_type": "stream",
     "text": [
      "1\n",
      "2\n",
      "3\n",
      "4\n",
      "5\n",
      "6\n",
      "7\n",
      "8\n",
      "9\n",
      "10\n"
     ]
    }
   ],
   "source": [
    "def add_one(num):\n",
    "\n",
    "    if (num >= 9):\n",
    "        return num + 1\n",
    "\n",
    "    total = num + 1\n",
    "    print(total)\n",
    "\n",
    "    return add_one(total)\n",
    "\n",
    "\n",
    "mynewtotal = add_one(0)\n",
    "print(mynewtotal)"
   ]
  },
  {
   "cell_type": "markdown",
   "id": "33613b72-9816-458c-b0fa-edc5847d0609",
   "metadata": {},
   "source": [
    "### RockPS version 3"
   ]
  },
  {
   "cell_type": "code",
   "execution_count": 249,
   "id": "6e667a93-6a1d-489c-8a92-4fe6713b70ce",
   "metadata": {},
   "outputs": [
    {
     "name": "stdin",
     "output_type": "stream",
     "text": [
      "\n",
      "Enter... \n",
      "1 for Rock,\n",
      "2 for Paper, or \n",
      "3 for Scissors:\n",
      "\n",
      " 1\n"
     ]
    },
    {
     "name": "stdout",
     "output_type": "stream",
     "text": [
      "\n",
      "You chose Rock.\n",
      "Python chose Scissors.\n",
      "\n",
      "🎉 You win!\n",
      "\n",
      "Play again?\n"
     ]
    },
    {
     "name": "stdin",
     "output_type": "stream",
     "text": [
      "\n",
      "Y for Yes or \n",
      "Q to Quit\n",
      " y\n",
      "\n",
      "Enter... \n",
      "1 for Rock,\n",
      "2 for Paper, or \n",
      "3 for Scissors:\n",
      "\n",
      " 1\n"
     ]
    },
    {
     "name": "stdout",
     "output_type": "stream",
     "text": [
      "\n",
      "You chose Rock.\n",
      "Python chose Paper.\n",
      "\n",
      "🐍 Python wins!\n",
      "\n",
      "Play again?\n"
     ]
    },
    {
     "name": "stdin",
     "output_type": "stream",
     "text": [
      "\n",
      "Y for Yes or \n",
      "Q to Quit\n",
      " q\n"
     ]
    },
    {
     "name": "stdout",
     "output_type": "stream",
     "text": [
      "\n",
      "🎉🎉🎉🎉\n",
      "Thank you for playing!\n",
      "\n"
     ]
    },
    {
     "ename": "SystemExit",
     "evalue": "Bye! 👋",
     "output_type": "error",
     "traceback": [
      "An exception has occurred, use %tb to see the full traceback.\n",
      "\u001b[1;31mSystemExit\u001b[0m\u001b[1;31m:\u001b[0m Bye! 👋\n"
     ]
    }
   ],
   "source": [
    "import sys\n",
    "import random\n",
    "from enum import Enum\n",
    "\n",
    "\n",
    "def play_rps():\n",
    "\n",
    "    class RPS(Enum):\n",
    "        ROCK = 1\n",
    "        PAPER = 2\n",
    "        SCISSORS = 3\n",
    "\n",
    "    playerchoice = input(\n",
    "        \"\\nEnter... \\n1 for Rock,\\n2 for Paper, or \\n3 for Scissors:\\n\\n\")\n",
    "\n",
    "    if playerchoice not in [\"1\", \"2\", \"3\"]:\n",
    "        print(\"You must enter 1, 2, or 3.\")\n",
    "        return play_rps()\n",
    "\n",
    "    player = int(playerchoice)\n",
    "\n",
    "    computerchoice = random.choice(\"123\")\n",
    "\n",
    "    computer = int(computerchoice)\n",
    "\n",
    "    print(\"\\nYou chose \" + str(RPS(player)).replace('RPS.', '').title() + \".\")\n",
    "    print(\"Python chose \" + str(RPS(computer)\n",
    "                                ).replace('RPS.', '').title() + \".\\n\")\n",
    "\n",
    "    if player == 1 and computer == 3:\n",
    "        print(\"🎉 You win!\")\n",
    "    elif player == 2 and computer == 1:\n",
    "        print(\"🎉 You win!\")\n",
    "    elif player == 3 and computer == 2:\n",
    "        print(\"🎉 You win!\")\n",
    "    elif player == computer:\n",
    "        print(\"😲 Tie game!\")\n",
    "    else:\n",
    "        print(\"🐍 Python wins!\")\n",
    "\n",
    "    print(\"\\nPlay again?\")\n",
    "\n",
    "    while True:\n",
    "        playagain = input(\"\\nY for Yes or \\nQ to Quit\\n\")\n",
    "        if playagain.lower() not in [\"y\", \"q\"]:\n",
    "            continue\n",
    "        else:\n",
    "            break\n",
    "\n",
    "    if playagain.lower() == \"y\":\n",
    "        return play_rps()\n",
    "    else:\n",
    "        print(\"\\n🎉🎉🎉🎉\")\n",
    "        print(\"Thank you for playing!\\n\")\n",
    "        sys.exit(\"Bye! 👋\")\n",
    "\n",
    "\n",
    "play_rps()"
   ]
  },
  {
   "cell_type": "code",
   "execution_count": null,
   "id": "6d509238-9011-4e5e-be67-b06dcac8e30d",
   "metadata": {},
   "outputs": [],
   "source": []
  },
  {
   "cell_type": "markdown",
   "id": "17497e5e-4a51-4b5e-ac30-19d0a15a3ba0",
   "metadata": {
    "jp-MarkdownHeadingCollapsed": true
   },
   "source": [
    "## Lesson 11 - Scope"
   ]
  },
  {
   "cell_type": "code",
   "execution_count": 4,
   "id": "c26e7ac5-707a-47db-98ef-edce7d5e50ed",
   "metadata": {},
   "outputs": [
    {
     "name": "stdout",
     "output_type": "stream",
     "text": [
      "2\n",
      "red\n",
      "Dave\n"
     ]
    }
   ],
   "source": [
    "name = \"Dave\"\n",
    "count = 1\n",
    "\n",
    "def another():\n",
    "    color = \"blue\"\n",
    "    global count\n",
    "    count += 1\n",
    "    print(count)\n",
    "\n",
    "    def greeting(name):\n",
    "        nonlocal color # use color from parent function\n",
    "        color = \"red\"\n",
    "        print(color)\n",
    "        print(name)\n",
    "\n",
    "    greeting(\"Dave\")\n",
    "\n",
    "\n",
    "another()"
   ]
  },
  {
   "cell_type": "markdown",
   "id": "ec669c4a-6e68-4bc9-b25b-7dc9667e49f0",
   "metadata": {
    "jp-MarkdownHeadingCollapsed": true
   },
   "source": [
    "## Lesson 12 - Closures"
   ]
  },
  {
   "cell_type": "code",
   "execution_count": 5,
   "id": "6f0f0464-e79a-4fe6-8018-d304f13ecf8f",
   "metadata": {},
   "outputs": [
    {
     "name": "stdout",
     "output_type": "stream",
     "text": [
      "\n",
      "Tommy has 2 coins left.\n",
      "\n",
      "Tommy has 1 coin left.\n",
      "\n",
      "Jenny has 4 coins left.\n",
      "\n",
      "Tommy is out of coins.\n"
     ]
    }
   ],
   "source": [
    "# Closure is a function having access to the scope of its parent\n",
    "# function after the parent function has returned.\n",
    "\n",
    "def parent_function(person, coins):\n",
    "    # coins = 3\n",
    "\n",
    "    def play_game():\n",
    "        nonlocal coins  # use coins from parent function\n",
    "        coins -= 1\n",
    "\n",
    "        if coins > 1:\n",
    "            print(\"\\n\" + person + \" has \" + str(coins) + \" coins left.\")\n",
    "        elif coins == 1:\n",
    "            print(\"\\n\" + person + \" has \" + str(coins) + \" coin left.\")\n",
    "        else:\n",
    "            print(\"\\n\" + person + \" is out of coins.\")\n",
    "\n",
    "    return play_game\n",
    "\n",
    "\n",
    "tommy = parent_function(\"Tommy\", 3)\n",
    "jenny = parent_function(\"Jenny\", 5)\n",
    "\n",
    "tommy()\n",
    "tommy()\n",
    "jenny()\n",
    "tommy()"
   ]
  },
  {
   "cell_type": "markdown",
   "id": "2fefd3d4-4cdf-4b15-8482-5f20c89cf6d9",
   "metadata": {},
   "source": [
    "### RPS v5"
   ]
  },
  {
   "cell_type": "code",
   "execution_count": 257,
   "id": "13ee68f3-4ea3-4a39-9738-c5d1c5702360",
   "metadata": {},
   "outputs": [
    {
     "name": "stdin",
     "output_type": "stream",
     "text": [
      "\n",
      "Enter... \n",
      "1 for Rock,\n",
      "2 for Paper, or \n",
      "3 for Scissors:\n",
      "\n",
      " 1\n"
     ]
    },
    {
     "name": "stdout",
     "output_type": "stream",
     "text": [
      "\n",
      "You chose Rock.\n",
      "Python chose Rock.\n",
      "\n",
      "😲 Tie game!\n",
      "\n",
      "Game count: 1\n",
      "\n",
      "Player wins: 0\n",
      "\n",
      "Python wins: 0\n",
      "\n",
      "Play again?\n"
     ]
    },
    {
     "name": "stdin",
     "output_type": "stream",
     "text": [
      "\n",
      "Y for Yes or \n",
      "Q to Quit\n",
      " y\n",
      "\n",
      "Enter... \n",
      "1 for Rock,\n",
      "2 for Paper, or \n",
      "3 for Scissors:\n",
      "\n",
      " 1\n"
     ]
    },
    {
     "name": "stdout",
     "output_type": "stream",
     "text": [
      "\n",
      "You chose Rock.\n",
      "Python chose Scissors.\n",
      "\n",
      "🎉 You win!\n",
      "\n",
      "Game count: 2\n",
      "\n",
      "Player wins: 1\n",
      "\n",
      "Python wins: 0\n",
      "\n",
      "Play again?\n"
     ]
    },
    {
     "name": "stdin",
     "output_type": "stream",
     "text": [
      "\n",
      "Y for Yes or \n",
      "Q to Quit\n",
      " q\n"
     ]
    },
    {
     "name": "stdout",
     "output_type": "stream",
     "text": [
      "\n",
      "🎉🎉🎉🎉\n",
      "Thank you for playing!\n",
      "\n"
     ]
    },
    {
     "ename": "SystemExit",
     "evalue": "Bye! 👋",
     "output_type": "error",
     "traceback": [
      "An exception has occurred, use %tb to see the full traceback.\n",
      "\u001b[1;31mSystemExit\u001b[0m\u001b[1;31m:\u001b[0m Bye! 👋\n"
     ]
    }
   ],
   "source": [
    "import sys\n",
    "import random\n",
    "from enum import Enum\n",
    "\n",
    "\n",
    "def rps():\n",
    "    game_count = 0\n",
    "    player_wins = 0\n",
    "    python_wins = 0\n",
    "\n",
    "    def play_rps():\n",
    "        nonlocal player_wins\n",
    "        nonlocal python_wins\n",
    "\n",
    "        class RPS(Enum):\n",
    "            ROCK = 1\n",
    "            PAPER = 2\n",
    "            SCISSORS = 3\n",
    "\n",
    "        playerchoice = input(\n",
    "            \"\\nEnter... \\n1 for Rock,\\n2 for Paper, or \\n3 for Scissors:\\n\\n\")\n",
    "\n",
    "        if playerchoice not in [\"1\", \"2\", \"3\"]:\n",
    "            print(\"You must enter 1, 2, or 3.\")\n",
    "            return play_rps()\n",
    "\n",
    "        player = int(playerchoice)\n",
    "\n",
    "        computerchoice = random.choice(\"123\")\n",
    "\n",
    "        computer = int(computerchoice)\n",
    "\n",
    "        print(\"\\nYou chose \" + str(RPS(player)).replace('RPS.', '').title() + \".\")\n",
    "        print(\"Python chose \" + str(RPS(computer)\n",
    "                                    ).replace('RPS.', '').title() + \".\\n\")\n",
    "\n",
    "        def decide_winner(player, computer):\n",
    "            nonlocal player_wins\n",
    "            nonlocal python_wins\n",
    "            if player == 1 and computer == 3:\n",
    "                player_wins += 1\n",
    "                return \"🎉 You win!\"\n",
    "            elif player == 2 and computer == 1:\n",
    "                player_wins += 1\n",
    "                return \"🎉 You win!\"\n",
    "            elif player == 3 and computer == 2:\n",
    "                player_wins += 1\n",
    "                return \"🎉 You win!\"\n",
    "            elif player == computer:\n",
    "                return \"😲 Tie game!\"\n",
    "            else:\n",
    "                python_wins += 1\n",
    "                return \"🐍 Python wins!\"\n",
    "\n",
    "        game_result = decide_winner(player, computer)\n",
    "\n",
    "        print(game_result)\n",
    "\n",
    "        nonlocal game_count\n",
    "        game_count += 1\n",
    "\n",
    "        print(\"\\nGame count: \" + str(game_count))\n",
    "        print(\"\\nPlayer wins: \" + str(player_wins))\n",
    "        print(\"\\nPython wins: \" + str(python_wins))\n",
    "\n",
    "        print(\"\\nPlay again?\")\n",
    "\n",
    "        while True:\n",
    "            playagain = input(\"\\nY for Yes or \\nQ to Quit\\n\")\n",
    "            if playagain.lower() not in [\"y\", \"q\"]:\n",
    "                continue\n",
    "            else:\n",
    "                break\n",
    "\n",
    "        if playagain.lower() == \"y\":\n",
    "            return play_rps()\n",
    "        else:\n",
    "            print(\"\\n🎉🎉🎉🎉\")\n",
    "            print(\"Thank you for playing!\\n\")\n",
    "            sys.exit(\"Bye! 👋\")\n",
    "\n",
    "    return play_rps\n",
    "\n",
    "\n",
    "play = rps()\n",
    "\n",
    "play()"
   ]
  },
  {
   "cell_type": "markdown",
   "id": "e05d4917-9cd7-4384-bda1-f95c15fcc159",
   "metadata": {
    "jp-MarkdownHeadingCollapsed": true
   },
   "source": [
    "## Lesson 13 - f-Strings"
   ]
  },
  {
   "cell_type": "code",
   "execution_count": 264,
   "id": "1960de3e-0f56-4867-a115-2c712db0d954",
   "metadata": {},
   "outputs": [],
   "source": [
    "person = \"Davy\"\n",
    "coins = 3"
   ]
  },
  {
   "cell_type": "code",
   "execution_count": 265,
   "id": "d0d87afd-3fc5-47d4-ac1c-c0f035d5fdad",
   "metadata": {},
   "outputs": [
    {
     "name": "stdout",
     "output_type": "stream",
     "text": [
      "\n",
      "Davy has 3 coins left.\n"
     ]
    }
   ],
   "source": [
    "# Concatenating strings\n",
    "print(\"\\n\" + person + \" has \" + str(coins) + \" coins left.\")"
   ]
  },
  {
   "cell_type": "code",
   "execution_count": 266,
   "id": "504b5646-e9bc-40de-bf88-0cf025af766c",
   "metadata": {},
   "outputs": [
    {
     "name": "stdout",
     "output_type": "stream",
     "text": [
      "\n",
      "Davy has 3 coins left.\n"
     ]
    }
   ],
   "source": [
    "# Previous %s formatting\n",
    "message = \"\\n%s has %s coins left.\" % (person, coins)\n",
    "print(message)"
   ]
  },
  {
   "cell_type": "code",
   "execution_count": 275,
   "id": "2be83cac-088d-4c06-a897-8d6b260ef3bf",
   "metadata": {},
   "outputs": [
    {
     "name": "stdout",
     "output_type": "stream",
     "text": [
      "\n",
      "Davy has 3 coins left.\n",
      "\n",
      "Davy has 3 coins left.\n",
      "\n",
      "Davy has 3 coins left.\n",
      "\n",
      "Davy has 3 coins left.\n"
     ]
    }
   ],
   "source": [
    "# Previous string.format() method\n",
    "message = \"\\n{} has {} coins left.\".format(person, coins)\n",
    "print(message)\n",
    "\n",
    "message = \"\\n{1} has {0} coins left.\".format(coins, person)\n",
    "print(message)\n",
    "\n",
    "message = \"\\n{person} has {coins} coins left.\".format(\n",
    "    coins=coins, person=person\n",
    ")\n",
    "print(message)\n",
    "\n",
    "player = {'person': 'Davy', 'coins': 3}\n",
    "\n",
    "message = \"\\n{person} has {coins} coins left.\".format(**player)\n",
    "print(message)"
   ]
  },
  {
   "cell_type": "code",
   "execution_count": 276,
   "id": "cf1eb5b9-0ac3-48cc-8cd4-b102aa51fa7f",
   "metadata": {},
   "outputs": [
    {
     "name": "stdout",
     "output_type": "stream",
     "text": [
      "\n",
      "Davy has 3 coins left.\n",
      "\n",
      "Davy has 10 coins left.\n",
      "\n",
      "davy has 10 coins left.\n",
      "\n",
      "Davy has 10 coins left.\n"
     ]
    }
   ],
   "source": [
    "# f-Strings! This is the way.\n",
    "message = f\"\\n{person} has {coins} coins left.\"\n",
    "print(message)\n",
    "\n",
    "message = f\"\\n{person} has {2 * 5} coins left.\"\n",
    "print(message)\n",
    "\n",
    "message = f\"\\n{person.lower()} has {2 * 5} coins left.\"\n",
    "print(message)\n",
    "\n",
    "player = {'person': 'Davy', 'coins': 3}\n",
    "\n",
    "message = f\"\\n{player['person']} has {2 * 5} coins left.\"\n",
    "print(message)"
   ]
  },
  {
   "cell_type": "code",
   "execution_count": 277,
   "id": "d6df0d9c-e41f-41a3-af17-53bd317a7279",
   "metadata": {},
   "outputs": [
    {
     "name": "stdout",
     "output_type": "stream",
     "text": [
      "\n",
      "2.25 times 10 is 22.50\n",
      "\n",
      "2.25 times 1 is 2.25\n",
      "2.25 times 2 is 4.50\n",
      "2.25 times 3 is 6.75\n",
      "2.25 times 4 is 9.00\n",
      "2.25 times 5 is 11.25\n",
      "2.25 times 6 is 13.50\n",
      "2.25 times 7 is 15.75\n",
      "2.25 times 8 is 18.00\n",
      "2.25 times 9 is 20.25\n",
      "2.25 times 10 is 22.50\n",
      "1 divided by 4.52 is 22.12%\n",
      "2 divided by 4.52 is 44.25%\n",
      "3 divided by 4.52 is 66.37%\n",
      "4 divided by 4.52 is 88.50%\n",
      "5 divided by 4.52 is 110.62%\n",
      "6 divided by 4.52 is 132.74%\n",
      "7 divided by 4.52 is 154.87%\n",
      "8 divided by 4.52 is 176.99%\n",
      "9 divided by 4.52 is 199.12%\n",
      "10 divided by 4.52 is 221.24%\n"
     ]
    }
   ],
   "source": [
    "# You can pass formatting options\n",
    "num = 10\n",
    "print(f\"\\n2.25 times {num} is {2.25 * num:.2f}\\n\")\n",
    "\n",
    "for num in range(1, 11):\n",
    "    print(f\"2.25 times {num} is {2.25 * num:.2f}\")\n",
    "\n",
    "for num in range(1, 11):\n",
    "    print(f\"{num} divided by 4.52 is {num / 4.52:.2%}\")"
   ]
  },
  {
   "cell_type": "markdown",
   "id": "7836f915-4ec3-4b6b-adb4-d0f85f934349",
   "metadata": {},
   "source": [
    "### RPS v6"
   ]
  },
  {
   "cell_type": "code",
   "execution_count": 278,
   "id": "cb69cced-e007-4763-a315-cfec1c5557b8",
   "metadata": {},
   "outputs": [
    {
     "name": "stdin",
     "output_type": "stream",
     "text": [
      "\n",
      "Enter... \n",
      "1 for Rock,\n",
      "2 for Paper, or \n",
      "3 for Scissors:\n",
      "\n",
      " 3\n"
     ]
    },
    {
     "name": "stdout",
     "output_type": "stream",
     "text": [
      "\n",
      "You chose Scissors.\n",
      "Python chose Scissors.\n",
      "\n",
      "😲 Tie game!\n",
      "\n",
      "Game count: 1\n",
      "\n",
      "Player wins: 0\n",
      "\n",
      "Python wins: 0\n",
      "\n",
      "Play again?\n"
     ]
    },
    {
     "name": "stdin",
     "output_type": "stream",
     "text": [
      "\n",
      "Y for Yes or \n",
      "Q to Quit\n",
      " y\n",
      "\n",
      "Enter... \n",
      "1 for Rock,\n",
      "2 for Paper, or \n",
      "3 for Scissors:\n",
      "\n",
      " 3\n"
     ]
    },
    {
     "name": "stdout",
     "output_type": "stream",
     "text": [
      "\n",
      "You chose Scissors.\n",
      "Python chose Rock.\n",
      "\n",
      "🐍 Python wins!\n",
      "\n",
      "Game count: 2\n",
      "\n",
      "Player wins: 0\n",
      "\n",
      "Python wins: 1\n",
      "\n",
      "Play again?\n"
     ]
    },
    {
     "name": "stdin",
     "output_type": "stream",
     "text": [
      "\n",
      "Y for Yes or \n",
      "Q to Quit\n",
      " q\n"
     ]
    },
    {
     "name": "stdout",
     "output_type": "stream",
     "text": [
      "\n",
      "🎉🎉🎉🎉\n",
      "Thank you for playing!\n",
      "\n"
     ]
    },
    {
     "ename": "SystemExit",
     "evalue": "Bye! 👋",
     "output_type": "error",
     "traceback": [
      "An exception has occurred, use %tb to see the full traceback.\n",
      "\u001b[1;31mSystemExit\u001b[0m\u001b[1;31m:\u001b[0m Bye! 👋\n"
     ]
    }
   ],
   "source": [
    "import sys\n",
    "import random\n",
    "from enum import Enum\n",
    "\n",
    "\n",
    "def rps():\n",
    "    game_count = 0\n",
    "    player_wins = 0\n",
    "    python_wins = 0\n",
    "\n",
    "    def play_rps():\n",
    "        nonlocal player_wins\n",
    "        nonlocal python_wins\n",
    "\n",
    "        class RPS(Enum):\n",
    "            ROCK = 1\n",
    "            PAPER = 2\n",
    "            SCISSORS = 3\n",
    "\n",
    "        playerchoice = input(\n",
    "            \"\\nEnter... \\n1 for Rock,\\n2 for Paper, or \\n3 for Scissors:\\n\\n\")\n",
    "\n",
    "        if playerchoice not in [\"1\", \"2\", \"3\"]:\n",
    "            print(\"You must enter 1, 2, or 3.\")\n",
    "            return play_rps()\n",
    "\n",
    "        player = int(playerchoice)\n",
    "\n",
    "        computerchoice = random.choice(\"123\")\n",
    "\n",
    "        computer = int(computerchoice)\n",
    "\n",
    "        print(f\"\\nYou chose {str(RPS(player)).replace('RPS.', '').title()}.\")\n",
    "        print(\n",
    "            f\"Python chose {str(RPS(computer)).replace('RPS.', '').title()}.\\n\"\n",
    "        )\n",
    "\n",
    "        def decide_winner(player, computer):\n",
    "            nonlocal player_wins\n",
    "            nonlocal python_wins\n",
    "            if player == 1 and computer == 3:\n",
    "                player_wins += 1\n",
    "                return \"🎉 You win!\"\n",
    "            elif player == 2 and computer == 1:\n",
    "                player_wins += 1\n",
    "                return \"🎉 You win!\"\n",
    "            elif player == 3 and computer == 2:\n",
    "                player_wins += 1\n",
    "                return \"🎉 You win!\"\n",
    "            elif player == computer:\n",
    "                return \"😲 Tie game!\"\n",
    "            else:\n",
    "                python_wins += 1\n",
    "                return \"🐍 Python wins!\"\n",
    "\n",
    "        game_result = decide_winner(player, computer)\n",
    "\n",
    "        print(game_result)\n",
    "\n",
    "        nonlocal game_count\n",
    "        game_count += 1\n",
    "\n",
    "        print(f\"\\nGame count: {str(game_count)}\")\n",
    "        print(f\"\\nPlayer wins: {str(player_wins)}\")\n",
    "        print(f\"\\nPython wins: {str(python_wins)}\")\n",
    "\n",
    "        print(\"\\nPlay again?\")\n",
    "\n",
    "        while True:\n",
    "            playagain = input(\"\\nY for Yes or \\nQ to Quit\\n\")\n",
    "            if playagain.lower() not in [\"y\", \"q\"]:\n",
    "                continue\n",
    "            else:\n",
    "                break\n",
    "\n",
    "        if playagain.lower() == \"y\":\n",
    "            return play_rps()\n",
    "        else:\n",
    "            print(\"\\n🎉🎉🎉🎉\")\n",
    "            print(\"Thank you for playing!\\n\")\n",
    "            sys.exit(\"Bye! 👋\")\n",
    "\n",
    "    return play_rps\n",
    "\n",
    "\n",
    "play = rps()\n",
    "\n",
    "play()"
   ]
  },
  {
   "cell_type": "markdown",
   "id": "ed99cb9a-7d88-470e-9309-dddf5e9d1332",
   "metadata": {
    "jp-MarkdownHeadingCollapsed": true
   },
   "source": [
    "## Lesson 14 - Lambda & Higher Order Functions"
   ]
  },
  {
   "cell_type": "code",
   "execution_count": 21,
   "id": "09e66cba-8b74-4b7b-8bc5-bbe14e9fe4b2",
   "metadata": {},
   "outputs": [
    {
     "name": "stdout",
     "output_type": "stream",
     "text": [
      "4\n"
     ]
    }
   ],
   "source": [
    "from functools import reduce\n",
    "\n",
    "def squared(num): return num * num\n",
    "# lambda num : num * num\n",
    "\n",
    "print(squared(2))"
   ]
  },
  {
   "cell_type": "code",
   "execution_count": 22,
   "id": "1ff27315-384f-4bab-b7e1-84afdb98953f",
   "metadata": {},
   "outputs": [
    {
     "name": "stdout",
     "output_type": "stream",
     "text": [
      "14\n",
      "18\n"
     ]
    }
   ],
   "source": [
    "def add_two(num): return num + 2\n",
    "# lambda num : num + 2\n",
    "print(add_two(12))\n",
    "\n",
    "def sum_total(a, b): return a + b\n",
    "# lambda a, b : a + b\n",
    "print(sum_total(10, 8))"
   ]
  },
  {
   "cell_type": "code",
   "execution_count": 23,
   "id": "922778d7-2424-4603-bafb-c7a427abb083",
   "metadata": {},
   "outputs": [
    {
     "name": "stdout",
     "output_type": "stream",
     "text": [
      "17\n",
      "27\n"
     ]
    }
   ],
   "source": [
    "def funcBuilder(x):\n",
    "    return lambda num: num + x\n",
    "\n",
    "add_ten = funcBuilder(10)\n",
    "add_twenty = funcBuilder(20)\n",
    "\n",
    "print(add_ten(7))\n",
    "print(add_twenty(7))"
   ]
  },
  {
   "cell_type": "code",
   "execution_count": 24,
   "id": "b728ddae-1211-49f0-ad50-44f00cafedc8",
   "metadata": {},
   "outputs": [
    {
     "name": "stdout",
     "output_type": "stream",
     "text": [
      "[9, 49, 144, 324, 400, 441]\n"
     ]
    }
   ],
   "source": [
    "numbers = [3, 7, 12, 18, 20, 21]\n",
    "\n",
    "squared_nums = map(lambda num: num * num, numbers)\n",
    "\n",
    "print(list(squared_nums))"
   ]
  },
  {
   "cell_type": "code",
   "execution_count": 25,
   "id": "ca98bdb5-ccfb-4b6f-bca3-3809a4ce1e40",
   "metadata": {},
   "outputs": [
    {
     "name": "stdout",
     "output_type": "stream",
     "text": [
      "[3, 7, 21]\n",
      "[12, 18, 20]\n"
     ]
    }
   ],
   "source": [
    "odd_nums = filter(lambda num: num % 2 != 0, numbers)\n",
    "even_nums = filter(lambda num: num % 2 == 0, numbers)\n",
    "\n",
    "print(list(odd_nums))\n",
    "print(list(even_nums))"
   ]
  },
  {
   "cell_type": "code",
   "execution_count": 26,
   "id": "4ee2d117-f1c3-4098-9ebb-e34625c4958c",
   "metadata": {},
   "outputs": [
    {
     "name": "stdout",
     "output_type": "stream",
     "text": [
      "26\n",
      "26\n"
     ]
    }
   ],
   "source": [
    "numbers = [1, 2, 3, 4, 5, 1]\n",
    "total = reduce(lambda acc, curr: acc + curr, numbers, 10)\n",
    "print(total)\n",
    "print(sum(numbers, 10))"
   ]
  },
  {
   "cell_type": "code",
   "execution_count": 20,
   "id": "dba07aa0-d50f-4149-bb17-b4bb0e5b7277",
   "metadata": {},
   "outputs": [
    {
     "name": "stdout",
     "output_type": "stream",
     "text": [
      "40\n"
     ]
    }
   ],
   "source": [
    "names = ['Davy Jones', 'Sara Ito', 'John Jacob Jinglebells']\n",
    "char_count = reduce(lambda acc, curr: acc + len(curr), names, 0)\n",
    "print(char_count)"
   ]
  },
  {
   "cell_type": "markdown",
   "id": "de8ac323-fe6c-46d4-a610-a4077c6222ea",
   "metadata": {
    "jp-MarkdownHeadingCollapsed": true
   },
   "source": [
    "## Lesson 15 - Classes & Objects"
   ]
  },
  {
   "cell_type": "code",
   "execution_count": 31,
   "id": "ef15e547-aebf-4615-a671-8ba60ab65d9f",
   "metadata": {},
   "outputs": [
    {
     "name": "stdout",
     "output_type": "stream",
     "text": [
      "Tesla\n",
      "Model 3\n",
      "I'm a Tesla Model 3.\n",
      "Moves along..\n"
     ]
    }
   ],
   "source": [
    "class Vehicle:\n",
    "    def __init__(self, make, model):\n",
    "        self.make = make\n",
    "        self.model = model\n",
    "\n",
    "    def moves(self):\n",
    "        print('Moves along..')\n",
    "\n",
    "    def get_make_model(self):\n",
    "        print(f\"I'm a {self.make} {self.model}.\")\n",
    "\n",
    "\n",
    "my_car = Vehicle('Tesla', 'Model 3')\n",
    "\n",
    "print(my_car.make)\n",
    "print(my_car.model)\n",
    "my_car.get_make_model()\n",
    "my_car.moves()\n"
   ]
  },
  {
   "cell_type": "code",
   "execution_count": 37,
   "id": "22ddc22d-bd3e-4042-a745-5e92aa0ba1cc",
   "metadata": {},
   "outputs": [],
   "source": [
    "class Airplane(Vehicle):\n",
    "    def __init__(self, make, model, faa_id):\n",
    "        super().__init__(make, model)\n",
    "        self.faa_id = faa_id\n",
    "    def moves(self):\n",
    "        print('Flies along..')\n",
    "\n",
    "class Truck(Vehicle):\n",
    "    def moves(self):\n",
    "        print('Rumbles along..')\n",
    "\n",
    "class GolfCart(Vehicle):\n",
    "    pass"
   ]
  },
  {
   "cell_type": "code",
   "execution_count": 38,
   "id": "bf54cca7-2a6b-40bb-9f2e-1985c419e341",
   "metadata": {},
   "outputs": [
    {
     "name": "stdout",
     "output_type": "stream",
     "text": [
      "I'm a Cessna Skyhawk.\n",
      "Flies along..\n",
      "I'm a Mack Pinnacle.\n",
      "Rumbles along..\n",
      "I'm a Yamaha GC100.\n",
      "Moves along..\n",
      "\n",
      "---------------------\n",
      "\n",
      "I'm a Tesla Model 3.\n",
      "Moves along..\n",
      "I'm a Cadillac Escalade.\n",
      "Moves along..\n",
      "I'm a Cessna Skyhawk.\n",
      "Flies along..\n",
      "I'm a Mack Pinnacle.\n",
      "Rumbles along..\n",
      "I'm a Yamaha GC100.\n",
      "Moves along..\n"
     ]
    }
   ],
   "source": [
    "cessna = Airplane('Cessna', 'Skyhawk', 'N-12345')\n",
    "mack = Truck('Mack', 'Pinnacle')\n",
    "golfwagon = GolfCart('Yamaha', 'GC100')\n",
    "\n",
    "cessna.get_make_model()\n",
    "cessna.moves()\n",
    "mack.get_make_model()\n",
    "mack.moves()\n",
    "golfwagon.get_make_model()\n",
    "golfwagon.moves()\n",
    "\n",
    "print('\\n---------------------\\n')\n",
    "\n",
    "for v in (my_car, your_car, cessna, mack, golfwagon):\n",
    "    v.get_make_model()\n",
    "    v.moves()"
   ]
  },
  {
   "cell_type": "markdown",
   "id": "ea6eeb15-8873-4e14-94c6-8fdee191a127",
   "metadata": {
    "jp-MarkdownHeadingCollapsed": true
   },
   "source": [
    "## Lesson 16 - Exceptions & Errors"
   ]
  },
  {
   "cell_type": "code",
   "execution_count": 29,
   "id": "d1390e8b-e322-4fe7-9ca5-c900796f8529",
   "metadata": {},
   "outputs": [
    {
     "name": "stdout",
     "output_type": "stream",
     "text": [
      "This just isn't cool, man.\n",
      "I'm going to print with or without an error.\n"
     ]
    }
   ],
   "source": [
    "class JustNotCoolError(Exception):\n",
    "    pass\n",
    "\n",
    "x = 2\n",
    "try:\n",
    "    raise JustNotCoolError(\"This just isn't cool, man.\")\n",
    "    # raise Exception(\"I'm a custom exception!\")\n",
    "    # print(x / 0)\n",
    "    # if not type(x) is str:\n",
    "    #     raise TypeError(\"Only strings are allowed.\")\n",
    "except NameError:\n",
    "    print('NameError means something is probably undefined.')\n",
    "except ZeroDivisionError:\n",
    "    print('Please do not divide by zero.')\n",
    "except Exception as error:\n",
    "    print(error)\n",
    "else:\n",
    "    print('No errors!')\n",
    "finally:\n",
    "    print(\"I'm going to print with or without an error.\")"
   ]
  }
 ],
 "metadata": {
  "kernelspec": {
   "display_name": "Python 3 (ipykernel)",
   "language": "python",
   "name": "python3"
  },
  "language_info": {
   "codemirror_mode": {
    "name": "ipython",
    "version": 3
   },
   "file_extension": ".py",
   "mimetype": "text/x-python",
   "name": "python",
   "nbconvert_exporter": "python",
   "pygments_lexer": "ipython3",
   "version": "3.10.5"
  }
 },
 "nbformat": 4,
 "nbformat_minor": 5
}
